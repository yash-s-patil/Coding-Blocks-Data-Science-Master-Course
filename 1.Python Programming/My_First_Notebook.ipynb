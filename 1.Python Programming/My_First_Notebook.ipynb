{
 "cells": [
  {
   "cell_type": "code",
   "execution_count": 1,
   "id": "0d2cda29",
   "metadata": {},
   "outputs": [
    {
     "name": "stdout",
     "output_type": "stream",
     "text": [
      "Hello\n"
     ]
    }
   ],
   "source": [
    "print(\"Hello\")"
   ]
  },
  {
   "cell_type": "code",
   "execution_count": 2,
   "id": "a8856b9a",
   "metadata": {},
   "outputs": [
    {
     "name": "stdout",
     "output_type": "stream",
     "text": [
      "15\n"
     ]
    }
   ],
   "source": [
    "a=5\n",
    "b=10\n",
    "print(a+b)"
   ]
  },
  {
   "cell_type": "markdown",
   "id": "3e484600",
   "metadata": {},
   "source": [
    "# Hello World\n",
    "This is a Markdown cell\n",
    "- A\n",
    "- B\n",
    "- C\n",
    "\n",
    "Shortcut - Press Esc,M,Shift+Enter"
   ]
  },
  {
   "cell_type": "code",
   "execution_count": 4,
   "id": "6d7f7b44",
   "metadata": {},
   "outputs": [
    {
     "name": "stdout",
     "output_type": "stream",
     "text": [
      "Hi\n"
     ]
    }
   ],
   "source": [
    "print(\"Hi\")\n",
    "# to convert again to code ESC,Y,Shift+Enter "
   ]
  },
  {
   "cell_type": "markdown",
   "id": "34c8133a",
   "metadata": {},
   "source": [
    "- To Convert the code cell to markdown\n",
    "     Press Esc,M,Shift+Enter\n",
    "- To convert markdown to code \n",
    "     Press ESC,Y,Shift+Enter\n",
    "- To delete a cell\n",
    "     Press ESC,D,D\n",
    "- To add a cell above\n",
    "     Press Esc,A\n",
    "- To add a cell Below \n",
    "     Press Esc,B"
   ]
  },
  {
   "cell_type": "code",
   "execution_count": null,
   "id": "b6186975",
   "metadata": {},
   "outputs": [],
   "source": []
  }
 ],
 "metadata": {
  "kernelspec": {
   "display_name": "Python 3 (ipykernel)",
   "language": "python",
   "name": "python3"
  },
  "language_info": {
   "codemirror_mode": {
    "name": "ipython",
    "version": 3
   },
   "file_extension": ".py",
   "mimetype": "text/x-python",
   "name": "python",
   "nbconvert_exporter": "python",
   "pygments_lexer": "ipython3",
   "version": "3.9.7"
  }
 },
 "nbformat": 4,
 "nbformat_minor": 5
}
