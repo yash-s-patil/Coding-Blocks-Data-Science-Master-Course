{
 "cells": [
  {
   "cell_type": "code",
   "execution_count": 1,
   "id": "68cdad2a",
   "metadata": {},
   "outputs": [
    {
     "name": "stdout",
     "output_type": "stream",
     "text": [
      "Hello World\n"
     ]
    }
   ],
   "source": [
    "print(\"Hello World\")"
   ]
  },
  {
   "cell_type": "code",
   "execution_count": 6,
   "id": "dc2ca96f",
   "metadata": {},
   "outputs": [],
   "source": [
    "# this is a comment which is ignored by interpreter\n",
    "# and for the ease of developers\n"
   ]
  },
  {
   "cell_type": "markdown",
   "id": "79224171",
   "metadata": {},
   "source": [
    "Literal constants\n",
    "- Numbers\n",
    "  - Integers\n",
    "  - Floats\n",
    "  - Complex\n",
    "- Strings\n",
    "  - Single quotes\n",
    "  - Double quotes\n",
    "  - Triple quotes\n",
    "  - Escape sequences (\\n,\\t,\\r)\n",
    "  - Explicit line joining \n",
    "  "
   ]
  },
  {
   "cell_type": "code",
   "execution_count": 13,
   "id": "37eeaec4",
   "metadata": {},
   "outputs": [],
   "source": [
    "a=5"
   ]
  },
  {
   "cell_type": "code",
   "execution_count": 9,
   "id": "66cdc665",
   "metadata": {},
   "outputs": [
    {
     "name": "stdout",
     "output_type": "stream",
     "text": [
      "5\n"
     ]
    }
   ],
   "source": [
    "print(a)"
   ]
  },
  {
   "cell_type": "code",
   "execution_count": 15,
   "id": "c9188c59",
   "metadata": {},
   "outputs": [],
   "source": [
    "a=2.3\n"
   ]
  },
  {
   "cell_type": "code",
   "execution_count": 16,
   "id": "db5652dd",
   "metadata": {},
   "outputs": [
    {
     "name": "stdout",
     "output_type": "stream",
     "text": [
      "2.3\n"
     ]
    }
   ],
   "source": [
    "print(a)"
   ]
  },
  {
   "cell_type": "code",
   "execution_count": 17,
   "id": "d0d5978e",
   "metadata": {},
   "outputs": [
    {
     "data": {
      "text/plain": [
       "float"
      ]
     },
     "execution_count": 17,
     "metadata": {},
     "output_type": "execute_result"
    }
   ],
   "source": [
    "type(a)"
   ]
  },
  {
   "cell_type": "code",
   "execution_count": 18,
   "id": "e235ede5",
   "metadata": {},
   "outputs": [],
   "source": [
    "b=1+5j"
   ]
  },
  {
   "cell_type": "code",
   "execution_count": 19,
   "id": "0cc3a6ef",
   "metadata": {},
   "outputs": [
    {
     "name": "stdout",
     "output_type": "stream",
     "text": [
      "(1+5j)\n"
     ]
    }
   ],
   "source": [
    "print(b)"
   ]
  },
  {
   "cell_type": "code",
   "execution_count": 20,
   "id": "7a6c81dc",
   "metadata": {},
   "outputs": [
    {
     "data": {
      "text/plain": [
       "complex"
      ]
     },
     "execution_count": 20,
     "metadata": {},
     "output_type": "execute_result"
    }
   ],
   "source": [
    "type(b)"
   ]
  },
  {
   "cell_type": "code",
   "execution_count": 21,
   "id": "bbbe1eb3",
   "metadata": {},
   "outputs": [],
   "source": [
    "a= \"Yash S Patil \""
   ]
  },
  {
   "cell_type": "code",
   "execution_count": 22,
   "id": "0adbe83a",
   "metadata": {},
   "outputs": [
    {
     "name": "stdout",
     "output_type": "stream",
     "text": [
      "Yash S Patil \n"
     ]
    }
   ],
   "source": [
    "print(a)"
   ]
  },
  {
   "cell_type": "code",
   "execution_count": 23,
   "id": "a6103530",
   "metadata": {},
   "outputs": [
    {
     "data": {
      "text/plain": [
       "str"
      ]
     },
     "execution_count": 23,
     "metadata": {},
     "output_type": "execute_result"
    }
   ],
   "source": [
    "type(a)"
   ]
  },
  {
   "cell_type": "code",
   "execution_count": 24,
   "id": "99869d60",
   "metadata": {},
   "outputs": [],
   "source": [
    "# python doesn't have character datatype every character is a string "
   ]
  },
  {
   "cell_type": "code",
   "execution_count": 25,
   "id": "992600d1",
   "metadata": {},
   "outputs": [],
   "source": [
    "a='v'"
   ]
  },
  {
   "cell_type": "code",
   "execution_count": 26,
   "id": "66494494",
   "metadata": {},
   "outputs": [
    {
     "name": "stdout",
     "output_type": "stream",
     "text": [
      "v\n"
     ]
    }
   ],
   "source": [
    "print(a)"
   ]
  },
  {
   "cell_type": "code",
   "execution_count": 27,
   "id": "7d9c990d",
   "metadata": {},
   "outputs": [
    {
     "data": {
      "text/plain": [
       "str"
      ]
     },
     "execution_count": 27,
     "metadata": {},
     "output_type": "execute_result"
    }
   ],
   "source": [
    "type(a)"
   ]
  },
  {
   "cell_type": "code",
   "execution_count": 28,
   "id": "d5bd4d96",
   "metadata": {},
   "outputs": [],
   "source": [
    "# in python single line string can be written using single or double quotes\n",
    "# and multiple line string can be written using triple single quotes or\n",
    "# triple double quotes\n"
   ]
  },
  {
   "cell_type": "code",
   "execution_count": 34,
   "id": "f9e24426",
   "metadata": {},
   "outputs": [
    {
     "name": "stdout",
     "output_type": "stream",
     "text": [
      "python\n",
      "Yash Patil\n",
      "\n",
      "This is multi \n",
      "line string\n",
      "\n",
      "\n",
      "This is multi \n",
      "line string \n",
      "\n"
     ]
    }
   ],
   "source": [
    "a=\"python\"\n",
    "print(a)\n",
    "b='Yash Patil'\n",
    "print(b)\n",
    "\n",
    "c= '''\n",
    "This is multi \n",
    "line string\n",
    "'''\n",
    "print(c)\n",
    "d=\"\"\"\n",
    "This is multi \n",
    "line string \n",
    "\"\"\"\n",
    "print(d)"
   ]
  },
  {
   "cell_type": "markdown",
   "id": "6469b214",
   "metadata": {},
   "source": [
    "### Arithmetic operators(+,-*,**,/,//,%)"
   ]
  },
  {
   "cell_type": "code",
   "execution_count": 39,
   "id": "88d05d57",
   "metadata": {},
   "outputs": [
    {
     "name": "stdout",
     "output_type": "stream",
     "text": [
      "31\n",
      "-11\n",
      "210\n",
      "0.47619047619047616\n",
      "0.4762\n",
      "0\n",
      "1000000000000000000000\n",
      "1\n"
     ]
    }
   ],
   "source": [
    "a=10\n",
    "b=21\n",
    "print(a+b) # addition\n",
    "print(a-b) # subtraction\n",
    "print(a*b) # multiplication\n",
    "print(a/b) # floating division \n",
    "print(\"%0.4f\"%(a/b)) # floating division only upto 4 decimal places\n",
    "print(a//b) # print only integer value to the left side and ignore decimals\n",
    "print(a**b) # a to the power b \n",
    "print(b%a) # gives the remainder\n",
    "\n",
    "\n"
   ]
  },
  {
   "cell_type": "markdown",
   "id": "805c178a",
   "metadata": {},
   "source": [
    "### Multiple Variable Assignment "
   ]
  },
  {
   "cell_type": "code",
   "execution_count": 40,
   "id": "e2449d87",
   "metadata": {},
   "outputs": [
    {
     "name": "stdout",
     "output_type": "stream",
     "text": [
      "10 20 30.4\n"
     ]
    }
   ],
   "source": [
    "a,b,c=10,20,30.4\n",
    "print(a,b,c)"
   ]
  },
  {
   "cell_type": "code",
   "execution_count": null,
   "id": "e2a464a4",
   "metadata": {},
   "outputs": [],
   "source": []
  }
 ],
 "metadata": {
  "kernelspec": {
   "display_name": "Python 3 (ipykernel)",
   "language": "python",
   "name": "python3"
  },
  "language_info": {
   "codemirror_mode": {
    "name": "ipython",
    "version": 3
   },
   "file_extension": ".py",
   "mimetype": "text/x-python",
   "name": "python",
   "nbconvert_exporter": "python",
   "pygments_lexer": "ipython3",
   "version": "3.9.7"
  }
 },
 "nbformat": 4,
 "nbformat_minor": 5
}
