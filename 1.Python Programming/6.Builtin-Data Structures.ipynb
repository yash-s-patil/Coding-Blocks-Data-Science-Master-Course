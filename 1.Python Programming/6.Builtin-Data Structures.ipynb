{
 "cells": [
  {
   "cell_type": "code",
   "execution_count": 1,
   "id": "f395a71c",
   "metadata": {},
   "outputs": [],
   "source": [
    "a=\"yash\""
   ]
  },
  {
   "cell_type": "code",
   "execution_count": 2,
   "id": "e77a29a2",
   "metadata": {},
   "outputs": [
    {
     "name": "stdout",
     "output_type": "stream",
     "text": [
      "yash\n"
     ]
    }
   ],
   "source": [
    "print(a)"
   ]
  },
  {
   "cell_type": "code",
   "execution_count": 3,
   "id": "92c0d088",
   "metadata": {},
   "outputs": [
    {
     "name": "stdout",
     "output_type": "stream",
     "text": [
      "abc\n"
     ]
    }
   ],
   "source": [
    "a='abc'\n",
    "print(a)"
   ]
  },
  {
   "cell_type": "code",
   "execution_count": 6,
   "id": "6892046d",
   "metadata": {},
   "outputs": [],
   "source": [
    "a='''hi this is a \n",
    "multiline string\n",
    "'''"
   ]
  },
  {
   "cell_type": "code",
   "execution_count": 7,
   "id": "4aeeedb7",
   "metadata": {},
   "outputs": [
    {
     "name": "stdout",
     "output_type": "stream",
     "text": [
      "hi this is a \n",
      "multiline string\n",
      "\n"
     ]
    }
   ],
   "source": [
    "print(a)"
   ]
  },
  {
   "cell_type": "code",
   "execution_count": 12,
   "id": "b055b641",
   "metadata": {},
   "outputs": [
    {
     "data": {
      "text/plain": [
       "99"
      ]
     },
     "execution_count": 12,
     "metadata": {},
     "output_type": "execute_result"
    }
   ],
   "source": [
    "ord('c') # returns the ascii value index"
   ]
  },
  {
   "cell_type": "code",
   "execution_count": 13,
   "id": "532f1409",
   "metadata": {},
   "outputs": [
    {
     "data": {
      "text/plain": [
       "'c'"
      ]
     },
     "execution_count": 13,
     "metadata": {},
     "output_type": "execute_result"
    }
   ],
   "source": [
    "chr(99) # returns the ascii value character"
   ]
  },
  {
   "cell_type": "markdown",
   "id": "cf6879f8",
   "metadata": {},
   "source": [
    "### String Opearations \n",
    "- formated strings\n",
    "- strip\n",
    "- split \n",
    "- replace\n",
    "- count"
   ]
  },
  {
   "cell_type": "code",
   "execution_count": 14,
   "id": "28f2b849",
   "metadata": {},
   "outputs": [],
   "source": [
    "name=\"Yash\"\n",
    "age=21\n",
    "year=4"
   ]
  },
  {
   "cell_type": "code",
   "execution_count": 17,
   "id": "e0dfdc62",
   "metadata": {},
   "outputs": [
    {
     "name": "stdout",
     "output_type": "stream",
     "text": [
      "My name is Yash. I am 21 years old. I am in 4 year\n"
     ]
    }
   ],
   "source": [
    "print(\"My name is \"+name+\". I am \"+str(age)+\" years old. I am in \"+str(year)+ \" year\")"
   ]
  },
  {
   "cell_type": "code",
   "execution_count": 18,
   "id": "94e62919",
   "metadata": {},
   "outputs": [
    {
     "name": "stdout",
     "output_type": "stream",
     "text": [
      "My name is Yash. I am 21 years old. I am in 4 year.\n"
     ]
    }
   ],
   "source": [
    "print(\"My name is %s. I am %d years old. I am in %d year.\"%(name,age,year))"
   ]
  },
  {
   "cell_type": "code",
   "execution_count": 19,
   "id": "78bf5363",
   "metadata": {},
   "outputs": [
    {
     "name": "stdout",
     "output_type": "stream",
     "text": [
      "My name is Yash. I am 21 years old. I am in 4 year.\n"
     ]
    }
   ],
   "source": [
    "print(\"My name is {}. I am {} years old. I am in {} year.\".format(name,age,year))"
   ]
  },
  {
   "cell_type": "markdown",
   "id": "9bba1d07",
   "metadata": {},
   "source": [
    "### f-strings\n"
   ]
  },
  {
   "cell_type": "code",
   "execution_count": 20,
   "id": "fbd1d931",
   "metadata": {},
   "outputs": [
    {
     "name": "stdout",
     "output_type": "stream",
     "text": [
      "My name is Yash. I am 21 old. I am in 4 year\n"
     ]
    }
   ],
   "source": [
    "print(f\"My name is {name}. I am {age} old. I am in {year} year\")"
   ]
  },
  {
   "cell_type": "markdown",
   "id": "8cf0d176",
   "metadata": {},
   "source": [
    "### strip - removes the whitespaces"
   ]
  },
  {
   "cell_type": "code",
   "execution_count": 21,
   "id": "a2c73b3a",
   "metadata": {},
   "outputs": [],
   "source": [
    "st= \"     goood morning   \"\n"
   ]
  },
  {
   "cell_type": "code",
   "execution_count": 22,
   "id": "f72f60fd",
   "metadata": {},
   "outputs": [
    {
     "data": {
      "text/plain": [
       "'     goood morning   '"
      ]
     },
     "execution_count": 22,
     "metadata": {},
     "output_type": "execute_result"
    }
   ],
   "source": [
    "st"
   ]
  },
  {
   "cell_type": "code",
   "execution_count": 24,
   "id": "dfa231b4",
   "metadata": {},
   "outputs": [
    {
     "data": {
      "text/plain": [
       "'     goood morning'"
      ]
     },
     "execution_count": 24,
     "metadata": {},
     "output_type": "execute_result"
    }
   ],
   "source": [
    "st.rstrip()"
   ]
  },
  {
   "cell_type": "code",
   "execution_count": 25,
   "id": "c471e248",
   "metadata": {},
   "outputs": [
    {
     "data": {
      "text/plain": [
       "'goood morning   '"
      ]
     },
     "execution_count": 25,
     "metadata": {},
     "output_type": "execute_result"
    }
   ],
   "source": [
    "st.lstrip()"
   ]
  },
  {
   "cell_type": "code",
   "execution_count": 26,
   "id": "c94add0f",
   "metadata": {},
   "outputs": [
    {
     "data": {
      "text/plain": [
       "'goood morning'"
      ]
     },
     "execution_count": 26,
     "metadata": {},
     "output_type": "execute_result"
    }
   ],
   "source": [
    "st.strip()"
   ]
  },
  {
   "cell_type": "code",
   "execution_count": 38,
   "id": "c6ff8356",
   "metadata": {},
   "outputs": [
    {
     "name": "stdout",
     "output_type": "stream",
     "text": [
      " Enter Yes or No     No\n"
     ]
    }
   ],
   "source": [
    "resp=input(\" Enter Yes or No\")"
   ]
  },
  {
   "cell_type": "code",
   "execution_count": 39,
   "id": "bdb16a0e",
   "metadata": {},
   "outputs": [
    {
     "data": {
      "text/plain": [
       "True"
      ]
     },
     "execution_count": 39,
     "metadata": {},
     "output_type": "execute_result"
    }
   ],
   "source": [
    "resp.strip()==\"No\""
   ]
  },
  {
   "cell_type": "markdown",
   "id": "b03e5f46",
   "metadata": {},
   "source": [
    "### split - creates list from string"
   ]
  },
  {
   "cell_type": "code",
   "execution_count": 40,
   "id": "2291a562",
   "metadata": {},
   "outputs": [],
   "source": [
    "st=\"My name is Yash Patil\""
   ]
  },
  {
   "cell_type": "code",
   "execution_count": 41,
   "id": "096128a5",
   "metadata": {},
   "outputs": [
    {
     "data": {
      "text/plain": [
       "'My name is Yash Patil'"
      ]
     },
     "execution_count": 41,
     "metadata": {},
     "output_type": "execute_result"
    }
   ],
   "source": [
    "st\n"
   ]
  },
  {
   "cell_type": "code",
   "execution_count": 43,
   "id": "7532d696",
   "metadata": {},
   "outputs": [
    {
     "data": {
      "text/plain": [
       "['My', 'name', 'is', 'Yash', 'Patil']"
      ]
     },
     "execution_count": 43,
     "metadata": {},
     "output_type": "execute_result"
    }
   ],
   "source": [
    "st.split(\" \")"
   ]
  },
  {
   "cell_type": "markdown",
   "id": "8b447081",
   "metadata": {},
   "source": [
    "### replace\n"
   ]
  },
  {
   "cell_type": "code",
   "execution_count": 44,
   "id": "24bc2fe0",
   "metadata": {},
   "outputs": [],
   "source": [
    "a=\"My name is Yash\""
   ]
  },
  {
   "cell_type": "code",
   "execution_count": 45,
   "id": "da8877a4",
   "metadata": {},
   "outputs": [
    {
     "data": {
      "text/plain": [
       "'My name is Yash'"
      ]
     },
     "execution_count": 45,
     "metadata": {},
     "output_type": "execute_result"
    }
   ],
   "source": [
    "a\n"
   ]
  },
  {
   "cell_type": "code",
   "execution_count": 47,
   "id": "463f9b13",
   "metadata": {},
   "outputs": [],
   "source": [
    "b=a.replace(\"Yash\",\"Alex\")"
   ]
  },
  {
   "cell_type": "code",
   "execution_count": 48,
   "id": "44ce0a38",
   "metadata": {},
   "outputs": [
    {
     "data": {
      "text/plain": [
       "'My name is Alex'"
      ]
     },
     "execution_count": 48,
     "metadata": {},
     "output_type": "execute_result"
    }
   ],
   "source": [
    "b"
   ]
  },
  {
   "cell_type": "code",
   "execution_count": 49,
   "id": "c2981a37",
   "metadata": {},
   "outputs": [],
   "source": [
    "st=\"aaaazzz\""
   ]
  },
  {
   "cell_type": "code",
   "execution_count": 50,
   "id": "ae24d4f6",
   "metadata": {},
   "outputs": [
    {
     "data": {
      "text/plain": [
       "'aaaazzz'"
      ]
     },
     "execution_count": 50,
     "metadata": {},
     "output_type": "execute_result"
    }
   ],
   "source": [
    "st"
   ]
  },
  {
   "cell_type": "code",
   "execution_count": 51,
   "id": "815146e5",
   "metadata": {},
   "outputs": [
    {
     "data": {
      "text/plain": [
       "'bbbbzzz'"
      ]
     },
     "execution_count": 51,
     "metadata": {},
     "output_type": "execute_result"
    }
   ],
   "source": [
    "st.replace(\"a\",\"b\")"
   ]
  },
  {
   "cell_type": "markdown",
   "id": "9b2ba2fb",
   "metadata": {},
   "source": [
    "### Count "
   ]
  },
  {
   "cell_type": "code",
   "execution_count": 54,
   "id": "a2b9e6e0",
   "metadata": {},
   "outputs": [],
   "source": [
    "a=\"My name is abc\""
   ]
  },
  {
   "cell_type": "code",
   "execution_count": 58,
   "id": "0f5528b4",
   "metadata": {},
   "outputs": [
    {
     "data": {
      "text/plain": [
       "1"
      ]
     },
     "execution_count": 58,
     "metadata": {},
     "output_type": "execute_result"
    }
   ],
   "source": [
    "a.count(\"b\")"
   ]
  },
  {
   "cell_type": "markdown",
   "id": "b0d70041",
   "metadata": {},
   "source": [
    "### List \n",
    "A list is a data structure in Python that is a mutable, or changeable, ordered sequence of elements. Each element or value that is inside of a list is called an item. Just as strings are defined as characters between quotes, lists are defined by having values between square brackets [].\n",
    "1. Ordered  2. Mutable 3. Accessed using index 4. Hetrogenous\n",
    "\n"
   ]
  },
  {
   "cell_type": "code",
   "execution_count": 59,
   "id": "0a9eb86c",
   "metadata": {},
   "outputs": [],
   "source": [
    "a = [1,2,3,4]"
   ]
  },
  {
   "cell_type": "code",
   "execution_count": 60,
   "id": "6d9cd4a8",
   "metadata": {},
   "outputs": [
    {
     "data": {
      "text/plain": [
       "[1, 2, 3, 4]"
      ]
     },
     "execution_count": 60,
     "metadata": {},
     "output_type": "execute_result"
    }
   ],
   "source": [
    "a"
   ]
  },
  {
   "cell_type": "code",
   "execution_count": 61,
   "id": "0c531bd9",
   "metadata": {},
   "outputs": [
    {
     "data": {
      "text/plain": [
       "1"
      ]
     },
     "execution_count": 61,
     "metadata": {},
     "output_type": "execute_result"
    }
   ],
   "source": [
    "a[0]"
   ]
  },
  {
   "cell_type": "code",
   "execution_count": 62,
   "id": "7d50f906",
   "metadata": {},
   "outputs": [],
   "source": [
    "a=[\"yash\",1,1.6,print]"
   ]
  },
  {
   "cell_type": "code",
   "execution_count": 69,
   "id": "278691ea",
   "metadata": {},
   "outputs": [
    {
     "data": {
      "text/plain": [
       "<function print>"
      ]
     },
     "execution_count": 69,
     "metadata": {},
     "output_type": "execute_result"
    }
   ],
   "source": [
    "a[3]"
   ]
  },
  {
   "cell_type": "code",
   "execution_count": 64,
   "id": "5057d709",
   "metadata": {},
   "outputs": [
    {
     "data": {
      "text/plain": [
       "1"
      ]
     },
     "execution_count": 64,
     "metadata": {},
     "output_type": "execute_result"
    }
   ],
   "source": [
    "a[1]"
   ]
  },
  {
   "cell_type": "code",
   "execution_count": 74,
   "id": "c2f8690f",
   "metadata": {},
   "outputs": [],
   "source": [
    "a=[1,2,3,4]\n",
    "b=[3,4,5,6]"
   ]
  },
  {
   "cell_type": "code",
   "execution_count": 71,
   "id": "3b288537",
   "metadata": {},
   "outputs": [
    {
     "data": {
      "text/plain": [
       "4"
      ]
     },
     "execution_count": 71,
     "metadata": {},
     "output_type": "execute_result"
    }
   ],
   "source": [
    "len(a)"
   ]
  },
  {
   "cell_type": "code",
   "execution_count": 75,
   "id": "b4941f4d",
   "metadata": {},
   "outputs": [
    {
     "data": {
      "text/plain": [
       "[1, 2, 3, 4, 3, 4, 5, 6]"
      ]
     },
     "execution_count": 75,
     "metadata": {},
     "output_type": "execute_result"
    }
   ],
   "source": [
    "a+b"
   ]
  },
  {
   "cell_type": "code",
   "execution_count": 78,
   "id": "1a26f4af",
   "metadata": {},
   "outputs": [
    {
     "data": {
      "text/plain": [
       "[1, 2, 3, 4, 1, 2, 3, 4, 1, 2, 3, 4, 1, 2, 3, 4, 1, 2, 3, 4]"
      ]
     },
     "execution_count": 78,
     "metadata": {},
     "output_type": "execute_result"
    }
   ],
   "source": [
    "a * 5"
   ]
  },
  {
   "cell_type": "code",
   "execution_count": 79,
   "id": "ed50f1e7",
   "metadata": {},
   "outputs": [
    {
     "data": {
      "text/plain": [
       "True"
      ]
     },
     "execution_count": 79,
     "metadata": {},
     "output_type": "execute_result"
    }
   ],
   "source": [
    "1 in a # whether 1 exist in a "
   ]
  },
  {
   "cell_type": "code",
   "execution_count": 80,
   "id": "ca477805",
   "metadata": {},
   "outputs": [
    {
     "name": "stdout",
     "output_type": "stream",
     "text": [
      "1\n",
      "2\n",
      "3\n",
      "4\n"
     ]
    }
   ],
   "source": [
    "for x in a:\n",
    "    print(x)"
   ]
  },
  {
   "cell_type": "code",
   "execution_count": 81,
   "id": "de3696ef",
   "metadata": {},
   "outputs": [],
   "source": [
    "# forward and backward indexing "
   ]
  },
  {
   "cell_type": "code",
   "execution_count": 82,
   "id": "e597ba5b",
   "metadata": {},
   "outputs": [
    {
     "data": {
      "text/plain": [
       "[1, 2, 3, 4]"
      ]
     },
     "execution_count": 82,
     "metadata": {},
     "output_type": "execute_result"
    }
   ],
   "source": [
    "a\n"
   ]
  },
  {
   "cell_type": "code",
   "execution_count": 83,
   "id": "5efe6fb7",
   "metadata": {},
   "outputs": [
    {
     "data": {
      "text/plain": [
       "2"
      ]
     },
     "execution_count": 83,
     "metadata": {},
     "output_type": "execute_result"
    }
   ],
   "source": [
    "a[1]"
   ]
  },
  {
   "cell_type": "code",
   "execution_count": 85,
   "id": "ef478318",
   "metadata": {},
   "outputs": [
    {
     "data": {
      "text/plain": [
       "4"
      ]
     },
     "execution_count": 85,
     "metadata": {},
     "output_type": "execute_result"
    }
   ],
   "source": [
    "a[-1] # last element "
   ]
  },
  {
   "cell_type": "code",
   "execution_count": 87,
   "id": "645c8e46",
   "metadata": {},
   "outputs": [
    {
     "data": {
      "text/plain": [
       "2"
      ]
     },
     "execution_count": 87,
     "metadata": {},
     "output_type": "execute_result"
    }
   ],
   "source": [
    "a[-3] # third last element "
   ]
  },
  {
   "cell_type": "code",
   "execution_count": 88,
   "id": "5915df09",
   "metadata": {},
   "outputs": [],
   "source": [
    "str=\"Yash\""
   ]
  },
  {
   "cell_type": "code",
   "execution_count": 89,
   "id": "876a412f",
   "metadata": {},
   "outputs": [
    {
     "data": {
      "text/plain": [
       "'h'"
      ]
     },
     "execution_count": 89,
     "metadata": {},
     "output_type": "execute_result"
    }
   ],
   "source": [
    "str[-1]"
   ]
  },
  {
   "cell_type": "code",
   "execution_count": 90,
   "id": "c46f3db8",
   "metadata": {},
   "outputs": [
    {
     "data": {
      "text/plain": [
       "'s'"
      ]
     },
     "execution_count": 90,
     "metadata": {},
     "output_type": "execute_result"
    }
   ],
   "source": [
    "str[-2]"
   ]
  },
  {
   "cell_type": "code",
   "execution_count": 93,
   "id": "367319df",
   "metadata": {},
   "outputs": [],
   "source": [
    "a=[4,5,6,7,8,9]"
   ]
  },
  {
   "cell_type": "code",
   "execution_count": 94,
   "id": "eee60820",
   "metadata": {},
   "outputs": [
    {
     "data": {
      "text/plain": [
       "[5, 6, 7]"
      ]
     },
     "execution_count": 94,
     "metadata": {},
     "output_type": "execute_result"
    }
   ],
   "source": [
    "a[1:4]   # [1,4)  print elements form 1 to 3rd index "
   ]
  },
  {
   "cell_type": "code",
   "execution_count": 97,
   "id": "71358405",
   "metadata": {},
   "outputs": [
    {
     "data": {
      "text/plain": [
       "[4, 6, 8]"
      ]
     },
     "execution_count": 97,
     "metadata": {},
     "output_type": "execute_result"
    }
   ],
   "source": [
    "a[0:6:2] # print elements from 0 to 5th index with a jump of 2 \n"
   ]
  },
  {
   "cell_type": "code",
   "execution_count": 98,
   "id": "5d497691",
   "metadata": {},
   "outputs": [],
   "source": [
    "a=\"Yash Patil\""
   ]
  },
  {
   "cell_type": "code",
   "execution_count": 100,
   "id": "ab9cdde4",
   "metadata": {},
   "outputs": [
    {
     "data": {
      "text/plain": [
       "'litaP hsaY'"
      ]
     },
     "execution_count": 100,
     "metadata": {},
     "output_type": "execute_result"
    }
   ],
   "source": [
    "a[::-1]    # reverse a string "
   ]
  },
  {
   "cell_type": "code",
   "execution_count": 101,
   "id": "5582cdda",
   "metadata": {},
   "outputs": [],
   "source": [
    "b=[\"Yash\",\"Patil\",1,2]"
   ]
  },
  {
   "cell_type": "code",
   "execution_count": 103,
   "id": "7544f98f",
   "metadata": {},
   "outputs": [
    {
     "data": {
      "text/plain": [
       "[2, 1, 'Patil', 'Yash']"
      ]
     },
     "execution_count": 103,
     "metadata": {},
     "output_type": "execute_result"
    }
   ],
   "source": [
    "b[::-1]    # reverse a list "
   ]
  },
  {
   "cell_type": "markdown",
   "id": "8c3b9505",
   "metadata": {},
   "source": [
    "Check if palindrome"
   ]
  },
  {
   "cell_type": "code",
   "execution_count": 109,
   "id": "09263e07",
   "metadata": {},
   "outputs": [],
   "source": [
    "a = \"abcba\""
   ]
  },
  {
   "cell_type": "code",
   "execution_count": 110,
   "id": "13842a9a",
   "metadata": {},
   "outputs": [
    {
     "data": {
      "text/plain": [
       "True"
      ]
     },
     "execution_count": 110,
     "metadata": {},
     "output_type": "execute_result"
    }
   ],
   "source": [
    "a == a[::-1]  "
   ]
  },
  {
   "cell_type": "markdown",
   "id": "78a59a54",
   "metadata": {},
   "source": [
    "Update the list "
   ]
  },
  {
   "cell_type": "code",
   "execution_count": 113,
   "id": "80af92c8",
   "metadata": {},
   "outputs": [],
   "source": [
    "a=[1,2,3,4]"
   ]
  },
  {
   "cell_type": "code",
   "execution_count": 114,
   "id": "2fde0f2a",
   "metadata": {},
   "outputs": [],
   "source": [
    "a.insert(1,\"Yash\")   # insert yash in first index of list"
   ]
  },
  {
   "cell_type": "code",
   "execution_count": 115,
   "id": "6e4d4ad8",
   "metadata": {},
   "outputs": [
    {
     "data": {
      "text/plain": [
       "[1, 'Yash', 2, 3, 4]"
      ]
     },
     "execution_count": 115,
     "metadata": {},
     "output_type": "execute_result"
    }
   ],
   "source": [
    "a"
   ]
  },
  {
   "cell_type": "code",
   "execution_count": 116,
   "id": "83e102ef",
   "metadata": {},
   "outputs": [],
   "source": [
    "a.append(\"patil\")   # add at last "
   ]
  },
  {
   "cell_type": "code",
   "execution_count": 117,
   "id": "745bcb03",
   "metadata": {},
   "outputs": [
    {
     "data": {
      "text/plain": [
       "[1, 'Yash', 2, 3, 4, 'patil']"
      ]
     },
     "execution_count": 117,
     "metadata": {},
     "output_type": "execute_result"
    }
   ],
   "source": [
    "a"
   ]
  },
  {
   "cell_type": "markdown",
   "id": "18e8fdbd",
   "metadata": {},
   "source": [
    "Delete list elements "
   ]
  },
  {
   "cell_type": "code",
   "execution_count": 118,
   "id": "d55f600e",
   "metadata": {},
   "outputs": [],
   "source": [
    "a=[1,2,3,4]"
   ]
  },
  {
   "cell_type": "code",
   "execution_count": 119,
   "id": "e15768e6",
   "metadata": {},
   "outputs": [
    {
     "data": {
      "text/plain": [
       "4"
      ]
     },
     "execution_count": 119,
     "metadata": {},
     "output_type": "execute_result"
    }
   ],
   "source": [
    "a.pop()   # pop the last element of list "
   ]
  },
  {
   "cell_type": "code",
   "execution_count": 120,
   "id": "95dbf8ce",
   "metadata": {},
   "outputs": [
    {
     "data": {
      "text/plain": [
       "[1, 2, 3]"
      ]
     },
     "execution_count": 120,
     "metadata": {},
     "output_type": "execute_result"
    }
   ],
   "source": [
    "a"
   ]
  },
  {
   "cell_type": "code",
   "execution_count": 121,
   "id": "044033eb",
   "metadata": {},
   "outputs": [
    {
     "data": {
      "text/plain": [
       "2"
      ]
     },
     "execution_count": 121,
     "metadata": {},
     "output_type": "execute_result"
    }
   ],
   "source": [
    "a.pop(1)   # pop the element from the first index "
   ]
  },
  {
   "cell_type": "code",
   "execution_count": 122,
   "id": "03f746e1",
   "metadata": {},
   "outputs": [
    {
     "data": {
      "text/plain": [
       "[1, 3]"
      ]
     },
     "execution_count": 122,
     "metadata": {},
     "output_type": "execute_result"
    }
   ],
   "source": [
    "a\n",
    "\n"
   ]
  },
  {
   "cell_type": "code",
   "execution_count": 123,
   "id": "6bac6a74",
   "metadata": {},
   "outputs": [],
   "source": [
    "a=[\"yash\",\"patil\",\"alex\",\"kevin\",\"patil\"]"
   ]
  },
  {
   "cell_type": "code",
   "execution_count": 125,
   "id": "b59b372e",
   "metadata": {},
   "outputs": [],
   "source": [
    "a.remove(\"patil\") # removes the first occurence of the given object \n",
    "         "
   ]
  },
  {
   "cell_type": "code",
   "execution_count": 126,
   "id": "73dd7b17",
   "metadata": {},
   "outputs": [
    {
     "data": {
      "text/plain": [
       "['yash', 'alex', 'kevin', 'patil']"
      ]
     },
     "execution_count": 126,
     "metadata": {},
     "output_type": "execute_result"
    }
   ],
   "source": [
    "a"
   ]
  },
  {
   "cell_type": "code",
   "execution_count": 127,
   "id": "1f5da332",
   "metadata": {},
   "outputs": [],
   "source": [
    "del a[1]"
   ]
  },
  {
   "cell_type": "code",
   "execution_count": 128,
   "id": "b13e45cc",
   "metadata": {},
   "outputs": [
    {
     "data": {
      "text/plain": [
       "['yash', 'kevin', 'patil']"
      ]
     },
     "execution_count": 128,
     "metadata": {},
     "output_type": "execute_result"
    }
   ],
   "source": [
    "a"
   ]
  },
  {
   "cell_type": "code",
   "execution_count": 129,
   "id": "fb7851df",
   "metadata": {},
   "outputs": [],
   "source": [
    "del a"
   ]
  },
  {
   "cell_type": "code",
   "execution_count": 130,
   "id": "aa2d4a1d",
   "metadata": {},
   "outputs": [
    {
     "ename": "NameError",
     "evalue": "name 'a' is not defined",
     "output_type": "error",
     "traceback": [
      "\u001b[1;31m---------------------------------------------------------------------------\u001b[0m",
      "\u001b[1;31mNameError\u001b[0m                                 Traceback (most recent call last)",
      "\u001b[1;32m~\\AppData\\Local\\Temp/ipykernel_11756/2167009006.py\u001b[0m in \u001b[0;36m<module>\u001b[1;34m\u001b[0m\n\u001b[1;32m----> 1\u001b[1;33m \u001b[0ma\u001b[0m\u001b[1;33m\u001b[0m\u001b[1;33m\u001b[0m\u001b[0m\n\u001b[0m",
      "\u001b[1;31mNameError\u001b[0m: name 'a' is not defined"
     ]
    }
   ],
   "source": [
    "a"
   ]
  },
  {
   "cell_type": "markdown",
   "id": "fe69463c",
   "metadata": {},
   "source": [
    "### Sorting and reversing "
   ]
  },
  {
   "cell_type": "code",
   "execution_count": 131,
   "id": "4df9b5da",
   "metadata": {},
   "outputs": [],
   "source": [
    "a=[5,4,6,3,7,1]"
   ]
  },
  {
   "cell_type": "code",
   "execution_count": 132,
   "id": "c0c430f2",
   "metadata": {},
   "outputs": [
    {
     "data": {
      "text/plain": [
       "[1, 3, 4, 5, 6, 7]"
      ]
     },
     "execution_count": 132,
     "metadata": {},
     "output_type": "execute_result"
    }
   ],
   "source": [
    "sorted(a)"
   ]
  },
  {
   "cell_type": "code",
   "execution_count": 133,
   "id": "c03ffb86",
   "metadata": {},
   "outputs": [],
   "source": [
    "a.sort()"
   ]
  },
  {
   "cell_type": "code",
   "execution_count": 134,
   "id": "b81061e5",
   "metadata": {},
   "outputs": [
    {
     "data": {
      "text/plain": [
       "[1, 3, 4, 5, 6, 7]"
      ]
     },
     "execution_count": 134,
     "metadata": {},
     "output_type": "execute_result"
    }
   ],
   "source": [
    "a\n"
   ]
  },
  {
   "cell_type": "code",
   "execution_count": 135,
   "id": "d98d29b3",
   "metadata": {},
   "outputs": [
    {
     "name": "stdout",
     "output_type": "stream",
     "text": [
      "7\n",
      "6\n",
      "5\n",
      "4\n",
      "3\n",
      "1\n"
     ]
    }
   ],
   "source": [
    "for i in reversed(a):\n",
    "    print(i)"
   ]
  },
  {
   "cell_type": "code",
   "execution_count": 136,
   "id": "ee716f3a",
   "metadata": {},
   "outputs": [],
   "source": [
    "a.reverse()"
   ]
  },
  {
   "cell_type": "code",
   "execution_count": 137,
   "id": "8e9984b8",
   "metadata": {},
   "outputs": [
    {
     "data": {
      "text/plain": [
       "[7, 6, 5, 4, 3, 1]"
      ]
     },
     "execution_count": 137,
     "metadata": {},
     "output_type": "execute_result"
    }
   ],
   "source": [
    "a"
   ]
  },
  {
   "cell_type": "markdown",
   "id": "f3606ae6",
   "metadata": {},
   "source": [
    "### Tuples"
   ]
  },
  {
   "cell_type": "markdown",
   "id": "2628b556",
   "metadata": {},
   "source": [
    "Tuples are used to hold together multiple objects. Think of them as similar to list, but without the extensive functionality that the list class gives you.One major feature of tuples is that they are immutable like strings i.e you cannot modify tuples\n",
    "Tuples are defined by specifying items seperated by commas within optional pair of paranthesses\n",
    "Tuples are usually used in cases where a statement or a user-defined function can safely assume that the collection of values. i.e the tuple of values used will not change."
   ]
  },
  {
   "cell_type": "code",
   "execution_count": 138,
   "id": "7dd8a527",
   "metadata": {},
   "outputs": [],
   "source": [
    "a=[1,2,3,4]"
   ]
  },
  {
   "cell_type": "code",
   "execution_count": 139,
   "id": "aca6e18c",
   "metadata": {},
   "outputs": [],
   "source": [
    "a[0]=5"
   ]
  },
  {
   "cell_type": "code",
   "execution_count": 140,
   "id": "eccaf518",
   "metadata": {},
   "outputs": [
    {
     "data": {
      "text/plain": [
       "[5, 2, 3, 4]"
      ]
     },
     "execution_count": 140,
     "metadata": {},
     "output_type": "execute_result"
    }
   ],
   "source": [
    "a"
   ]
  },
  {
   "cell_type": "code",
   "execution_count": 141,
   "id": "a66aecab",
   "metadata": {},
   "outputs": [
    {
     "data": {
      "text/plain": [
       "2482256089024"
      ]
     },
     "execution_count": 141,
     "metadata": {},
     "output_type": "execute_result"
    }
   ],
   "source": [
    "id(a) # memory address of list "
   ]
  },
  {
   "cell_type": "code",
   "execution_count": 142,
   "id": "4417bab1",
   "metadata": {},
   "outputs": [],
   "source": [
    "a[0]=1"
   ]
  },
  {
   "cell_type": "code",
   "execution_count": 143,
   "id": "a3ee75ff",
   "metadata": {},
   "outputs": [
    {
     "data": {
      "text/plain": [
       "2482256089024"
      ]
     },
     "execution_count": 143,
     "metadata": {},
     "output_type": "execute_result"
    }
   ],
   "source": [
    "id(a)"
   ]
  },
  {
   "cell_type": "code",
   "execution_count": 144,
   "id": "29332125",
   "metadata": {},
   "outputs": [],
   "source": [
    "#tuple\n",
    "a=(1,2,3,4,5)"
   ]
  },
  {
   "cell_type": "code",
   "execution_count": 146,
   "id": "49389c0b",
   "metadata": {},
   "outputs": [
    {
     "ename": "TypeError",
     "evalue": "'tuple' object does not support item assignment",
     "output_type": "error",
     "traceback": [
      "\u001b[1;31m---------------------------------------------------------------------------\u001b[0m",
      "\u001b[1;31mTypeError\u001b[0m                                 Traceback (most recent call last)",
      "\u001b[1;32m~\\AppData\\Local\\Temp/ipykernel_11756/1717855883.py\u001b[0m in \u001b[0;36m<module>\u001b[1;34m\u001b[0m\n\u001b[1;32m----> 1\u001b[1;33m \u001b[0ma\u001b[0m\u001b[1;33m[\u001b[0m\u001b[1;36m0\u001b[0m\u001b[1;33m]\u001b[0m\u001b[1;33m=\u001b[0m\u001b[1;36m1\u001b[0m  \u001b[1;31m#immutable\u001b[0m\u001b[1;33m\u001b[0m\u001b[1;33m\u001b[0m\u001b[0m\n\u001b[0m",
      "\u001b[1;31mTypeError\u001b[0m: 'tuple' object does not support item assignment"
     ]
    }
   ],
   "source": [
    "a[0] = 1  #immutable"
   ]
  },
  {
   "cell_type": "code",
   "execution_count": 147,
   "id": "d97b836c",
   "metadata": {},
   "outputs": [],
   "source": [
    "def func(*args):\n",
    "    print(args)"
   ]
  },
  {
   "cell_type": "code",
   "execution_count": 148,
   "id": "e764b09b",
   "metadata": {},
   "outputs": [
    {
     "name": "stdout",
     "output_type": "stream",
     "text": [
      "(1, 2, 3, 4)\n"
     ]
    }
   ],
   "source": [
    "func(1,2,3,4)  # arguments passed in func never changes therefore tuple is used"
   ]
  },
  {
   "cell_type": "code",
   "execution_count": 149,
   "id": "93011096",
   "metadata": {},
   "outputs": [],
   "source": [
    "a=1,2\n"
   ]
  },
  {
   "cell_type": "code",
   "execution_count": 150,
   "id": "a3bf14c6",
   "metadata": {},
   "outputs": [
    {
     "data": {
      "text/plain": [
       "tuple"
      ]
     },
     "execution_count": 150,
     "metadata": {},
     "output_type": "execute_result"
    }
   ],
   "source": [
    "type(a)"
   ]
  },
  {
   "cell_type": "code",
   "execution_count": 151,
   "id": "f2663197",
   "metadata": {},
   "outputs": [
    {
     "data": {
      "text/plain": [
       "(1, 2)"
      ]
     },
     "execution_count": 151,
     "metadata": {},
     "output_type": "execute_result"
    }
   ],
   "source": [
    "a"
   ]
  },
  {
   "cell_type": "code",
   "execution_count": 152,
   "id": "746dda1f",
   "metadata": {},
   "outputs": [],
   "source": [
    "c,d=a"
   ]
  },
  {
   "cell_type": "code",
   "execution_count": 153,
   "id": "9ca6a784",
   "metadata": {},
   "outputs": [
    {
     "data": {
      "text/plain": [
       "1"
      ]
     },
     "execution_count": 153,
     "metadata": {},
     "output_type": "execute_result"
    }
   ],
   "source": [
    "c"
   ]
  },
  {
   "cell_type": "code",
   "execution_count": 154,
   "id": "d50c978d",
   "metadata": {},
   "outputs": [
    {
     "data": {
      "text/plain": [
       "2"
      ]
     },
     "execution_count": 154,
     "metadata": {},
     "output_type": "execute_result"
    }
   ],
   "source": [
    "d"
   ]
  },
  {
   "cell_type": "code",
   "execution_count": 155,
   "id": "905c5a40",
   "metadata": {},
   "outputs": [],
   "source": [
    "a=5\n",
    "b=9"
   ]
  },
  {
   "cell_type": "code",
   "execution_count": 159,
   "id": "bf8b1408",
   "metadata": {},
   "outputs": [],
   "source": [
    "b,a=a,b"
   ]
  },
  {
   "cell_type": "code",
   "execution_count": 160,
   "id": "0922131f",
   "metadata": {},
   "outputs": [
    {
     "data": {
      "text/plain": [
       "5"
      ]
     },
     "execution_count": 160,
     "metadata": {},
     "output_type": "execute_result"
    }
   ],
   "source": [
    "a"
   ]
  },
  {
   "cell_type": "code",
   "execution_count": 161,
   "id": "f1c34921",
   "metadata": {},
   "outputs": [
    {
     "data": {
      "text/plain": [
       "9"
      ]
     },
     "execution_count": 161,
     "metadata": {},
     "output_type": "execute_result"
    }
   ],
   "source": [
    "b"
   ]
  },
  {
   "cell_type": "markdown",
   "id": "a2acecf1",
   "metadata": {},
   "source": [
    "convert a tuple to list "
   ]
  },
  {
   "cell_type": "code",
   "execution_count": 162,
   "id": "71c2a9cb",
   "metadata": {},
   "outputs": [],
   "source": [
    "a=(1,2,3,4)"
   ]
  },
  {
   "cell_type": "code",
   "execution_count": 163,
   "id": "0555272c",
   "metadata": {},
   "outputs": [],
   "source": [
    "a=list(a)"
   ]
  },
  {
   "cell_type": "code",
   "execution_count": 164,
   "id": "9c485b9b",
   "metadata": {},
   "outputs": [
    {
     "data": {
      "text/plain": [
       "[1, 2, 3, 4]"
      ]
     },
     "execution_count": 164,
     "metadata": {},
     "output_type": "execute_result"
    }
   ],
   "source": [
    "a"
   ]
  },
  {
   "cell_type": "code",
   "execution_count": 165,
   "id": "d6fb7723",
   "metadata": {},
   "outputs": [],
   "source": [
    "a=list(range(15))"
   ]
  },
  {
   "cell_type": "code",
   "execution_count": 166,
   "id": "1f2a431b",
   "metadata": {},
   "outputs": [
    {
     "data": {
      "text/plain": [
       "[0, 1, 2, 3, 4, 5, 6, 7, 8, 9, 10, 11, 12, 13, 14]"
      ]
     },
     "execution_count": 166,
     "metadata": {},
     "output_type": "execute_result"
    }
   ],
   "source": [
    "a"
   ]
  },
  {
   "cell_type": "code",
   "execution_count": 167,
   "id": "1cc26fd8",
   "metadata": {},
   "outputs": [],
   "source": [
    "a=list(\"Yash\")"
   ]
  },
  {
   "cell_type": "code",
   "execution_count": 168,
   "id": "1cd5b31c",
   "metadata": {},
   "outputs": [
    {
     "data": {
      "text/plain": [
       "['Y', 'a', 's', 'h']"
      ]
     },
     "execution_count": 168,
     "metadata": {},
     "output_type": "execute_result"
    }
   ],
   "source": [
    "a"
   ]
  },
  {
   "cell_type": "code",
   "execution_count": 171,
   "id": "78677810",
   "metadata": {},
   "outputs": [],
   "source": [
    "a=tuple(a)   # conver a list to tuple"
   ]
  },
  {
   "cell_type": "code",
   "execution_count": 172,
   "id": "6370bfec",
   "metadata": {},
   "outputs": [
    {
     "data": {
      "text/plain": [
       "('Y', 'a', 's', 'h')"
      ]
     },
     "execution_count": 172,
     "metadata": {},
     "output_type": "execute_result"
    }
   ],
   "source": [
    "a"
   ]
  },
  {
   "cell_type": "markdown",
   "id": "8d5f2816",
   "metadata": {},
   "source": [
    "Returning multiple values from functions"
   ]
  },
  {
   "cell_type": "code",
   "execution_count": 173,
   "id": "a7a8ff54",
   "metadata": {},
   "outputs": [],
   "source": [
    "def addsubtract(a,b):\n",
    "    return a+b,a-b"
   ]
  },
  {
   "cell_type": "code",
   "execution_count": 178,
   "id": "6eab526d",
   "metadata": {},
   "outputs": [],
   "source": [
    "sum,diff=addsubtract(12,3)"
   ]
  },
  {
   "cell_type": "code",
   "execution_count": 181,
   "id": "2243094e",
   "metadata": {},
   "outputs": [
    {
     "data": {
      "text/plain": [
       "15"
      ]
     },
     "execution_count": 181,
     "metadata": {},
     "output_type": "execute_result"
    }
   ],
   "source": [
    "sum"
   ]
  },
  {
   "cell_type": "code",
   "execution_count": 180,
   "id": "c745ddb9",
   "metadata": {},
   "outputs": [
    {
     "data": {
      "text/plain": [
       "9"
      ]
     },
     "execution_count": 180,
     "metadata": {},
     "output_type": "execute_result"
    }
   ],
   "source": [
    "diff"
   ]
  },
  {
   "cell_type": "markdown",
   "id": "2d369135",
   "metadata": {},
   "source": [
    "Some more operations "
   ]
  },
  {
   "cell_type": "code",
   "execution_count": 185,
   "id": "825e8c9c",
   "metadata": {},
   "outputs": [],
   "source": [
    "a=[1,3,2,6,4,7]"
   ]
  },
  {
   "cell_type": "code",
   "execution_count": 186,
   "id": "364c5d0a",
   "metadata": {},
   "outputs": [
    {
     "data": {
      "text/plain": [
       "6"
      ]
     },
     "execution_count": 186,
     "metadata": {},
     "output_type": "execute_result"
    }
   ],
   "source": [
    "len(a)   # length of list "
   ]
  },
  {
   "cell_type": "code",
   "execution_count": 187,
   "id": "81e9416d",
   "metadata": {},
   "outputs": [
    {
     "data": {
      "text/plain": [
       "1"
      ]
     },
     "execution_count": 187,
     "metadata": {},
     "output_type": "execute_result"
    }
   ],
   "source": [
    "min(a)   # smallest item of list "
   ]
  },
  {
   "cell_type": "code",
   "execution_count": 188,
   "id": "ae56c8f0",
   "metadata": {},
   "outputs": [
    {
     "data": {
      "text/plain": [
       "7"
      ]
     },
     "execution_count": 188,
     "metadata": {},
     "output_type": "execute_result"
    }
   ],
   "source": [
    "max(a)  # largest item of list "
   ]
  },
  {
   "cell_type": "code",
   "execution_count": 194,
   "id": "b85a5f3b",
   "metadata": {},
   "outputs": [
    {
     "data": {
      "text/plain": [
       "5"
      ]
     },
     "execution_count": 194,
     "metadata": {},
     "output_type": "execute_result"
    }
   ],
   "source": [
    "a.index(7)   # tells the index of element "
   ]
  },
  {
   "cell_type": "code",
   "execution_count": 196,
   "id": "1d172037",
   "metadata": {},
   "outputs": [
    {
     "data": {
      "text/plain": [
       "1"
      ]
     },
     "execution_count": 196,
     "metadata": {},
     "output_type": "execute_result"
    }
   ],
   "source": [
    "a.count(2) # total no of occurrences "
   ]
  },
  {
   "cell_type": "markdown",
   "id": "0e4e8c1b",
   "metadata": {},
   "source": [
    "### Dictionary \n",
    "- A dictionary is like an address-book where you can find the address or contact details of a person by knowing his/her name i.e we associate keys(name) with values(details).Note that key must be unique just like you cannot find out the correct information if you have two persons with the exact same name.\n",
    "- Remember that key-value pairs in a dictionary are not ordered in any manner."
   ]
  },
  {
   "cell_type": "code",
   "execution_count": 199,
   "id": "94c6408e",
   "metadata": {},
   "outputs": [],
   "source": [
    "a={\n",
    "    \"name\": \"yash\",\n",
    "    \"marks\": 90,\n",
    "    \"subjects\":[\"eng\",\"math\"],\n",
    "    \"friends\":{\n",
    "        2:\"Alex\",\n",
    "        3:\"Jatin\"\n",
    "    }\n",
    "}"
   ]
  },
  {
   "cell_type": "code",
   "execution_count": 200,
   "id": "f2b86955",
   "metadata": {},
   "outputs": [
    {
     "data": {
      "text/plain": [
       "'yash'"
      ]
     },
     "execution_count": 200,
     "metadata": {},
     "output_type": "execute_result"
    }
   ],
   "source": [
    "a[\"name\"]"
   ]
  },
  {
   "cell_type": "code",
   "execution_count": 201,
   "id": "84f32b15",
   "metadata": {},
   "outputs": [
    {
     "data": {
      "text/plain": [
       "['eng', 'math']"
      ]
     },
     "execution_count": 201,
     "metadata": {},
     "output_type": "execute_result"
    }
   ],
   "source": [
    "a[\"subjects\"]"
   ]
  },
  {
   "cell_type": "code",
   "execution_count": 204,
   "id": "2dbbf191",
   "metadata": {},
   "outputs": [
    {
     "data": {
      "text/plain": [
       "{2: 'Alex', 3: 'Jatin'}"
      ]
     },
     "execution_count": 204,
     "metadata": {},
     "output_type": "execute_result"
    }
   ],
   "source": [
    "a[\"friends\"]"
   ]
  },
  {
   "cell_type": "code",
   "execution_count": 205,
   "id": "4807a1af",
   "metadata": {},
   "outputs": [
    {
     "data": {
      "text/plain": [
       "'Alex'"
      ]
     },
     "execution_count": 205,
     "metadata": {},
     "output_type": "execute_result"
    }
   ],
   "source": [
    "a[\"friends\"][2]"
   ]
  },
  {
   "cell_type": "code",
   "execution_count": 206,
   "id": "d27ab34e",
   "metadata": {},
   "outputs": [
    {
     "name": "stdout",
     "output_type": "stream",
     "text": [
      "name\n",
      "marks\n",
      "subjects\n",
      "friends\n"
     ]
    }
   ],
   "source": [
    "for key in a:\n",
    "    print(key)"
   ]
  },
  {
   "cell_type": "markdown",
   "id": "51b5a178",
   "metadata": {},
   "source": [
    "Some important dict methods \n",
    "- get()\n",
    "- items()\n",
    "- keys()\n",
    "- values()\n",
    "- clear()"
   ]
  },
  {
   "cell_type": "code",
   "execution_count": 208,
   "id": "f9f7a1c2",
   "metadata": {},
   "outputs": [
    {
     "name": "stdout",
     "output_type": "stream",
     "text": [
      "name -> yash\n",
      "marks -> 90\n",
      "subjects -> ['eng', 'math']\n",
      "friends -> {2: 'Alex', 3: 'Jatin'}\n"
     ]
    }
   ],
   "source": [
    "# item - create tuple of key - value\n",
    "for key,value in a.items():\n",
    "    print(key,\"->\", value)"
   ]
  },
  {
   "cell_type": "code",
   "execution_count": 210,
   "id": "1ec207cf",
   "metadata": {},
   "outputs": [
    {
     "name": "stdout",
     "output_type": "stream",
     "text": [
      "name\n",
      "marks\n",
      "subjects\n",
      "friends\n"
     ]
    }
   ],
   "source": [
    "# keys - written all the keys\n",
    "for key in a.keys():\n",
    "    print(key)"
   ]
  },
  {
   "cell_type": "code",
   "execution_count": 211,
   "id": "e7e7999d",
   "metadata": {},
   "outputs": [
    {
     "name": "stdout",
     "output_type": "stream",
     "text": [
      "yash\n",
      "90\n",
      "['eng', 'math']\n",
      "{2: 'Alex', 3: 'Jatin'}\n"
     ]
    }
   ],
   "source": [
    "# values - written all the values \n",
    "for value in a.values():\n",
    "    print(value)"
   ]
  },
  {
   "cell_type": "code",
   "execution_count": 212,
   "id": "27d0d1d1",
   "metadata": {},
   "outputs": [
    {
     "data": {
      "text/plain": [
       "'yash'"
      ]
     },
     "execution_count": 212,
     "metadata": {},
     "output_type": "execute_result"
    }
   ],
   "source": [
    "a[\"name\"]"
   ]
  },
  {
   "cell_type": "code",
   "execution_count": 215,
   "id": "410c257d",
   "metadata": {},
   "outputs": [
    {
     "data": {
      "text/plain": [
       "'yash'"
      ]
     },
     "execution_count": 215,
     "metadata": {},
     "output_type": "execute_result"
    }
   ],
   "source": [
    "a.get(\"name\")   # safe method in case not found returns null not error "
   ]
  },
  {
   "cell_type": "code",
   "execution_count": 216,
   "id": "2aceadb4",
   "metadata": {},
   "outputs": [],
   "source": [
    "a.clear()"
   ]
  },
  {
   "cell_type": "code",
   "execution_count": 217,
   "id": "6b8474a9",
   "metadata": {},
   "outputs": [
    {
     "data": {
      "text/plain": [
       "{}"
      ]
     },
     "execution_count": 217,
     "metadata": {},
     "output_type": "execute_result"
    }
   ],
   "source": [
    "a"
   ]
  },
  {
   "cell_type": "markdown",
   "id": "e851b134",
   "metadata": {},
   "source": [
    "Challenge - write a simple python program which inputs and stores the data about the university students as a list of dictionaries.Your final record structure should look like this:\n",
    "[\n",
    "  {\n",
    "    'roll-no' : 1211,\n",
    "    'name': 'Ravi',\n",
    "    'branch': 'CSE'\n",
    "   },\n",
    "   {\n",
    "     'roll-no' : 202,\n",
    "    'name': 'Abhishek',\n",
    "    'branch': 'SE' \n",
    "   },\n",
    "   {\n",
    "    'roll-no' : 1202,\n",
    "    'name': 'Sachin\n",
    "    'branch': 'IT\n",
    "   }\n",
    "]"
   ]
  },
  {
   "cell_type": "code",
   "execution_count": 226,
   "id": "b5c69675",
   "metadata": {},
   "outputs": [],
   "source": [
    "student =[]"
   ]
  },
  {
   "cell_type": "code",
   "execution_count": 227,
   "id": "fe6b672b",
   "metadata": {},
   "outputs": [
    {
     "name": "stdout",
     "output_type": "stream",
     "text": [
      "2\n"
     ]
    }
   ],
   "source": [
    "n=int(input())"
   ]
  },
  {
   "cell_type": "code",
   "execution_count": 228,
   "id": "0aff2f01",
   "metadata": {},
   "outputs": [
    {
     "name": "stdout",
     "output_type": "stream",
     "text": [
      "1 \n",
      "Yash\n",
      "CSE\n",
      "2\n",
      "Kevin\n",
      "ece\n"
     ]
    }
   ],
   "source": [
    "for i in range(n):\n",
    "    roll=int(input())\n",
    "    name=input()\n",
    "    branch=input()\n",
    "    student.append({\n",
    "        \"roll-no\":roll,\n",
    "        \"name\": name,\n",
    "        \"branch\":branch\n",
    "    })"
   ]
  },
  {
   "cell_type": "code",
   "execution_count": 229,
   "id": "4887dba1",
   "metadata": {},
   "outputs": [
    {
     "data": {
      "text/plain": [
       "[{'roll-no': 1, 'name': 'Yash', 'branch': 'CSE'},\n",
       " {'roll-no': 2, 'name': 'Kevin', 'branch': 'ece'}]"
      ]
     },
     "execution_count": 229,
     "metadata": {},
     "output_type": "execute_result"
    }
   ],
   "source": [
    "student"
   ]
  },
  {
   "cell_type": "markdown",
   "id": "83ead631",
   "metadata": {},
   "source": [
    "Keys in the dictionary can be any immutable DS"
   ]
  },
  {
   "cell_type": "code",
   "execution_count": 230,
   "id": "e601cd6e",
   "metadata": {},
   "outputs": [],
   "source": [
    "a={\n",
    "    (1,2):\"Yash\"\n",
    "}"
   ]
  },
  {
   "cell_type": "code",
   "execution_count": 231,
   "id": "f51a6492",
   "metadata": {},
   "outputs": [
    {
     "data": {
      "text/plain": [
       "'Yash'"
      ]
     },
     "execution_count": 231,
     "metadata": {},
     "output_type": "execute_result"
    }
   ],
   "source": [
    "a[(1,2)]"
   ]
  },
  {
   "cell_type": "code",
   "execution_count": 233,
   "id": "50f3aa75",
   "metadata": {},
   "outputs": [
    {
     "ename": "TypeError",
     "evalue": "unhashable type: 'list'",
     "output_type": "error",
     "traceback": [
      "\u001b[1;31m---------------------------------------------------------------------------\u001b[0m",
      "\u001b[1;31mTypeError\u001b[0m                                 Traceback (most recent call last)",
      "\u001b[1;32m~\\AppData\\Local\\Temp/ipykernel_11756/3396941239.py\u001b[0m in \u001b[0;36m<module>\u001b[1;34m\u001b[0m\n\u001b[1;32m----> 1\u001b[1;33m a={\n\u001b[0m\u001b[0;32m      2\u001b[0m     \u001b[1;33m[\u001b[0m\u001b[1;36m1\u001b[0m\u001b[1;33m,\u001b[0m\u001b[1;36m2\u001b[0m\u001b[1;33m]\u001b[0m\u001b[1;33m:\u001b[0m\u001b[1;34m\"Yash\"\u001b[0m\u001b[1;33m\u001b[0m\u001b[1;33m\u001b[0m\u001b[0m\n\u001b[0;32m      3\u001b[0m }\n",
      "\u001b[1;31mTypeError\u001b[0m: unhashable type: 'list'"
     ]
    }
   ],
   "source": [
    "a={\n",
    "    [1,2]:\"Yash\"\n",
    "}"
   ]
  },
  {
   "cell_type": "markdown",
   "id": "77f97563",
   "metadata": {},
   "source": [
    "### SETS\n",
    "- Set is a unordered data structure and isn't meant to be iterated - no way to access a particular item\n",
    "- these are used when the existence of an object in a collection is more imp than the order or how many times it occurs\n",
    "- using sets you can test for membership, whether it is a subset of another set,find the intersection between two sets and so on\n"
   ]
  },
  {
   "cell_type": "code",
   "execution_count": 234,
   "id": "86929c19",
   "metadata": {},
   "outputs": [],
   "source": [
    "a={1,2,3,4}"
   ]
  },
  {
   "cell_type": "code",
   "execution_count": 235,
   "id": "9da8fcf7",
   "metadata": {},
   "outputs": [
    {
     "data": {
      "text/plain": [
       "set"
      ]
     },
     "execution_count": 235,
     "metadata": {},
     "output_type": "execute_result"
    }
   ],
   "source": [
    "type(a)"
   ]
  },
  {
   "cell_type": "code",
   "execution_count": 236,
   "id": "6365d6ea",
   "metadata": {},
   "outputs": [],
   "source": [
    "a={}"
   ]
  },
  {
   "cell_type": "code",
   "execution_count": 237,
   "id": "8a8817de",
   "metadata": {},
   "outputs": [
    {
     "data": {
      "text/plain": [
       "dict"
      ]
     },
     "execution_count": 237,
     "metadata": {},
     "output_type": "execute_result"
    }
   ],
   "source": [
    "type(a)"
   ]
  },
  {
   "cell_type": "code",
   "execution_count": 239,
   "id": "f9423cad",
   "metadata": {},
   "outputs": [],
   "source": [
    "a=set()"
   ]
  },
  {
   "cell_type": "code",
   "execution_count": 240,
   "id": "b70e9c50",
   "metadata": {},
   "outputs": [
    {
     "data": {
      "text/plain": [
       "set"
      ]
     },
     "execution_count": 240,
     "metadata": {},
     "output_type": "execute_result"
    }
   ],
   "source": [
    "type(a)"
   ]
  },
  {
   "cell_type": "markdown",
   "id": "92d9f796",
   "metadata": {},
   "source": [
    "common set operations"
   ]
  },
  {
   "cell_type": "code",
   "execution_count": 241,
   "id": "1249367a",
   "metadata": {},
   "outputs": [],
   "source": [
    "a={1,2,3,4}\n"
   ]
  },
  {
   "cell_type": "code",
   "execution_count": 242,
   "id": "d9c4c298",
   "metadata": {},
   "outputs": [],
   "source": [
    "b={3,4,5,6}"
   ]
  },
  {
   "cell_type": "code",
   "execution_count": 244,
   "id": "9e1f0cee",
   "metadata": {},
   "outputs": [
    {
     "data": {
      "text/plain": [
       "{3, 4}"
      ]
     },
     "execution_count": 244,
     "metadata": {},
     "output_type": "execute_result"
    }
   ],
   "source": [
    "a.intersection(b)  # common from both sets"
   ]
  },
  {
   "cell_type": "code",
   "execution_count": 246,
   "id": "db1859f4",
   "metadata": {},
   "outputs": [
    {
     "data": {
      "text/plain": [
       "{1, 2, 3, 4, 5, 6}"
      ]
     },
     "execution_count": 246,
     "metadata": {},
     "output_type": "execute_result"
    }
   ],
   "source": [
    "a.union(b) # all the elements"
   ]
  },
  {
   "cell_type": "code",
   "execution_count": 248,
   "id": "aae26b2f",
   "metadata": {},
   "outputs": [
    {
     "data": {
      "text/plain": [
       "{1, 2}"
      ]
     },
     "execution_count": 248,
     "metadata": {},
     "output_type": "execute_result"
    }
   ],
   "source": [
    "a-b  #values in set a but not in set b"
   ]
  },
  {
   "cell_type": "code",
   "execution_count": 249,
   "id": "7b693404",
   "metadata": {},
   "outputs": [
    {
     "ename": "TypeError",
     "evalue": "'set' object is not subscriptable",
     "output_type": "error",
     "traceback": [
      "\u001b[1;31m---------------------------------------------------------------------------\u001b[0m",
      "\u001b[1;31mTypeError\u001b[0m                                 Traceback (most recent call last)",
      "\u001b[1;32m~\\AppData\\Local\\Temp/ipykernel_11756/240059899.py\u001b[0m in \u001b[0;36m<module>\u001b[1;34m\u001b[0m\n\u001b[1;32m----> 1\u001b[1;33m \u001b[0ma\u001b[0m\u001b[1;33m[\u001b[0m\u001b[1;36m1\u001b[0m\u001b[1;33m]\u001b[0m\u001b[1;33m\u001b[0m\u001b[1;33m\u001b[0m\u001b[0m\n\u001b[0m",
      "\u001b[1;31mTypeError\u001b[0m: 'set' object is not subscriptable"
     ]
    }
   ],
   "source": [
    "a[1]  #not indexable"
   ]
  },
  {
   "cell_type": "code",
   "execution_count": 250,
   "id": "5391aa22",
   "metadata": {},
   "outputs": [
    {
     "name": "stdout",
     "output_type": "stream",
     "text": [
      "1\n",
      "2\n",
      "3\n",
      "4\n"
     ]
    }
   ],
   "source": [
    "for i in a:\n",
    "    print(i)"
   ]
  },
  {
   "cell_type": "code",
   "execution_count": 251,
   "id": "91e607a2",
   "metadata": {},
   "outputs": [],
   "source": [
    "c={1,2,3,4,1,2,3,4}\n"
   ]
  },
  {
   "cell_type": "code",
   "execution_count": 253,
   "id": "cb263db6",
   "metadata": {},
   "outputs": [
    {
     "data": {
      "text/plain": [
       "{1, 2, 3, 4}"
      ]
     },
     "execution_count": 253,
     "metadata": {},
     "output_type": "execute_result"
    }
   ],
   "source": [
    "c  # all the duplicate values in set are removed"
   ]
  },
  {
   "cell_type": "code",
   "execution_count": 254,
   "id": "bc59a0d7",
   "metadata": {},
   "outputs": [],
   "source": [
    "a=[1,2,3,4,1,2,3]"
   ]
  },
  {
   "cell_type": "code",
   "execution_count": 255,
   "id": "6c4736a1",
   "metadata": {},
   "outputs": [
    {
     "data": {
      "text/plain": [
       "[1, 2, 3, 4]"
      ]
     },
     "execution_count": 255,
     "metadata": {},
     "output_type": "execute_result"
    }
   ],
   "source": [
    "list(set(a))  # remove all the duplicates from the list "
   ]
  },
  {
   "cell_type": "markdown",
   "id": "638641c4",
   "metadata": {},
   "source": [
    "### Comprehension"
   ]
  },
  {
   "cell_type": "code",
   "execution_count": 256,
   "id": "be1ee87b",
   "metadata": {},
   "outputs": [],
   "source": [
    "a=[]\n",
    "for i in range(10):\n",
    "    a.append(i**2)"
   ]
  },
  {
   "cell_type": "code",
   "execution_count": 257,
   "id": "56c5e922",
   "metadata": {},
   "outputs": [
    {
     "name": "stdout",
     "output_type": "stream",
     "text": [
      "[0, 1, 4, 9, 16, 25, 36, 49, 64, 81]\n"
     ]
    }
   ],
   "source": [
    "print(a)"
   ]
  },
  {
   "cell_type": "markdown",
   "id": "45f1eba7",
   "metadata": {},
   "source": [
    "List Comprehension"
   ]
  },
  {
   "cell_type": "code",
   "execution_count": 259,
   "id": "c5ec02ce",
   "metadata": {},
   "outputs": [
    {
     "data": {
      "text/plain": [
       "[0, 4, 16, 36, 64]"
      ]
     },
     "execution_count": 259,
     "metadata": {},
     "output_type": "execute_result"
    }
   ],
   "source": [
    "[i**2 for i in range(10) if i%2==0]"
   ]
  },
  {
   "cell_type": "markdown",
   "id": "2fa84225",
   "metadata": {},
   "source": [
    "Dict comprehension"
   ]
  },
  {
   "cell_type": "code",
   "execution_count": 261,
   "id": "84bee07e",
   "metadata": {},
   "outputs": [
    {
     "data": {
      "text/plain": [
       "{0: 0, 2: 4, 4: 16, 6: 36, 8: 64}"
      ]
     },
     "execution_count": 261,
     "metadata": {},
     "output_type": "execute_result"
    }
   ],
   "source": [
    "{i:i**2 for i in range(10) if i%2==0}"
   ]
  },
  {
   "cell_type": "code",
   "execution_count": 263,
   "id": "84ad1e81",
   "metadata": {},
   "outputs": [
    {
     "data": {
      "text/plain": [
       "{0, 4, 16, 36, 64}"
      ]
     },
     "execution_count": 263,
     "metadata": {},
     "output_type": "execute_result"
    }
   ],
   "source": [
    "{i**2 for i in range(10) if i%2==0}   # set comprehension "
   ]
  },
  {
   "cell_type": "markdown",
   "id": "d30e7150",
   "metadata": {},
   "source": [
    "not tuple comprehension"
   ]
  },
  {
   "cell_type": "code",
   "execution_count": 264,
   "id": "af65d63e",
   "metadata": {},
   "outputs": [],
   "source": [
    "a=(i**2 for i in range(10))"
   ]
  },
  {
   "cell_type": "code",
   "execution_count": 265,
   "id": "73a0eba1",
   "metadata": {},
   "outputs": [
    {
     "data": {
      "text/plain": [
       "<generator object <genexpr> at 0x00000241F2010350>"
      ]
     },
     "execution_count": 265,
     "metadata": {},
     "output_type": "execute_result"
    }
   ],
   "source": [
    "a  # study -later "
   ]
  },
  {
   "cell_type": "code",
   "execution_count": null,
   "id": "1924da7a",
   "metadata": {},
   "outputs": [],
   "source": []
  }
 ],
 "metadata": {
  "kernelspec": {
   "display_name": "Python 3 (ipykernel)",
   "language": "python",
   "name": "python3"
  },
  "language_info": {
   "codemirror_mode": {
    "name": "ipython",
    "version": 3
   },
   "file_extension": ".py",
   "mimetype": "text/x-python",
   "name": "python",
   "nbconvert_exporter": "python",
   "pygments_lexer": "ipython3",
   "version": "3.9.7"
  }
 },
 "nbformat": 4,
 "nbformat_minor": 5
}
