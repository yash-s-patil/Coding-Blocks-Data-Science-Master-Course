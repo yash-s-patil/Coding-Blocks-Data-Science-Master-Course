{
 "cells": [
  {
   "cell_type": "markdown",
   "id": "f76029a2",
   "metadata": {},
   "source": [
    "### Object oriented programming "
   ]
  },
  {
   "cell_type": "markdown",
   "id": "45495ac6",
   "metadata": {},
   "source": [
    "- In all the programs we wrote till now, we have designed our program around functions i,e blocks of \n",
    "  statements which manipulate data. This is called the procedure-oriented way of programming.\n",
    "- There is another way of organizing your program which is to combine data and functionality and wrap it inside something called an object. This is called object oriented programming paradigm.\n",
    "- Most of the time you can use procedural programming, but when writing large programs or have a problem that is better suited to this method,you can use object oriented programming techniques.\n",
    "- classes and objects are the two main aspects of object oriented programming.A class creates a new type where objects are instances of the class\n"
   ]
  },
  {
   "cell_type": "markdown",
   "id": "6dea2030",
   "metadata": {},
   "source": [
    "A minimal example of a class"
   ]
  },
  {
   "cell_type": "code",
   "execution_count": 1,
   "id": "1492e9be",
   "metadata": {},
   "outputs": [
    {
     "name": "stdout",
     "output_type": "stream",
     "text": [
      "<__main__.Person object at 0x000001C43CBD3220>\n"
     ]
    }
   ],
   "source": [
    "class Person:\n",
    "    pass\n",
    "p=Person()\n",
    "print(p)"
   ]
  },
  {
   "cell_type": "markdown",
   "id": "1b80f9d9",
   "metadata": {},
   "source": [
    "Class with a method"
   ]
  },
  {
   "cell_type": "code",
   "execution_count": 1,
   "id": "eca4f556",
   "metadata": {},
   "outputs": [
    {
     "name": "stdout",
     "output_type": "stream",
     "text": [
      "Hello, how are you Yash\n"
     ]
    }
   ],
   "source": [
    "class Person:\n",
    "    def say_hi(self):\n",
    "        self.name=\"Yash\"\n",
    "        print(f\"Hello, how are you {self.name}\")\n",
    "p=Person()\n",
    "p.say_hi()"
   ]
  },
  {
   "cell_type": "code",
   "execution_count": 1,
   "id": "a416533c",
   "metadata": {},
   "outputs": [],
   "source": [
    "# the __init__ method"
   ]
  },
  {
   "cell_type": "code",
   "execution_count": 4,
   "id": "79b08153",
   "metadata": {},
   "outputs": [
    {
     "name": "stdout",
     "output_type": "stream",
     "text": [
      "object created\n",
      "hello my name is Yash\n"
     ]
    }
   ],
   "source": [
    "class Person:\n",
    "    # not a constructor \n",
    "    def __init__(self,name):  # executed when object is created\n",
    "        print(\"object created\")\n",
    "        self.name=name\n",
    "    def say_hi(self):\n",
    "        print(f\"hello my name is {self.name}\")\n",
    "        \n",
    "p=Person(\"Yash\")\n",
    "p.say_hi()\n",
    "        "
   ]
  },
  {
   "cell_type": "markdown",
   "id": "9fe20148",
   "metadata": {},
   "source": [
    "### Dunders or magic function"
   ]
  },
  {
   "cell_type": "code",
   "execution_count": 6,
   "id": "9a863c0b",
   "metadata": {},
   "outputs": [],
   "source": [
    "class Car:\n",
    "    def __init__(self,model,mileage):\n",
    "        self.model=model\n",
    "        self.mileage=mileage\n",
    "    def __str__(self):\n",
    "        return \"{} {}\".format(self.model,self.mileage)\n",
    "    def __repr__(self):\n",
    "        return \"{}\".format(self.model)\n",
    "    def __eq__(self,other):\n",
    "        return self.mileage==other.mileage\n",
    "    def __add__(self,other):\n",
    "        return self.mileage+other.mileage\n",
    "    \n",
    "    "
   ]
  },
  {
   "cell_type": "code",
   "execution_count": 7,
   "id": "bf9eb31b",
   "metadata": {},
   "outputs": [],
   "source": [
    "c1=Car('a',2)\n",
    "c2=Car('b',2)"
   ]
  },
  {
   "cell_type": "code",
   "execution_count": 8,
   "id": "c229d554",
   "metadata": {},
   "outputs": [
    {
     "data": {
      "text/plain": [
       "4"
      ]
     },
     "execution_count": 8,
     "metadata": {},
     "output_type": "execute_result"
    }
   ],
   "source": [
    "c1+c2"
   ]
  },
  {
   "cell_type": "code",
   "execution_count": 9,
   "id": "6909ccf1",
   "metadata": {},
   "outputs": [
    {
     "data": {
      "text/plain": [
       "True"
      ]
     },
     "execution_count": 9,
     "metadata": {},
     "output_type": "execute_result"
    }
   ],
   "source": [
    "c1==c2"
   ]
  },
  {
   "cell_type": "code",
   "execution_count": 10,
   "id": "47bc85f2",
   "metadata": {},
   "outputs": [
    {
     "data": {
      "text/plain": [
       "a"
      ]
     },
     "execution_count": 10,
     "metadata": {},
     "output_type": "execute_result"
    }
   ],
   "source": [
    "c1"
   ]
  },
  {
   "cell_type": "code",
   "execution_count": 11,
   "id": "f23c00c8",
   "metadata": {},
   "outputs": [
    {
     "data": {
      "text/plain": [
       "b"
      ]
     },
     "execution_count": 11,
     "metadata": {},
     "output_type": "execute_result"
    }
   ],
   "source": [
    "c2"
   ]
  },
  {
   "cell_type": "code",
   "execution_count": 14,
   "id": "fd240443",
   "metadata": {},
   "outputs": [],
   "source": [
    "class ostream:\n",
    "    def __lshift__(self,other):\n",
    "        print(other,end=\" \")\n",
    "        return self\n",
    "cout=ostream()"
   ]
  },
  {
   "cell_type": "code",
   "execution_count": 15,
   "id": "1d9855f3",
   "metadata": {},
   "outputs": [
    {
     "name": "stdout",
     "output_type": "stream",
     "text": [
      "Yash Patil "
     ]
    },
    {
     "data": {
      "text/plain": [
       "<__main__.ostream at 0x28708a05be0>"
      ]
     },
     "execution_count": 15,
     "metadata": {},
     "output_type": "execute_result"
    }
   ],
   "source": [
    "cout <<\"Yash\"<<\"Patil\""
   ]
  },
  {
   "cell_type": "code",
   "execution_count": 16,
   "id": "ce9270f5",
   "metadata": {},
   "outputs": [],
   "source": [
    "class Dog:\n",
    "    kind=\"canine\"\n",
    "    def __init__(self,name):\n",
    "        self.name=name"
   ]
  },
  {
   "cell_type": "code",
   "execution_count": 17,
   "id": "51085d41",
   "metadata": {},
   "outputs": [],
   "source": [
    "a=Dog(\"tuffy\")"
   ]
  },
  {
   "cell_type": "code",
   "execution_count": 19,
   "id": "cd117316",
   "metadata": {},
   "outputs": [
    {
     "data": {
      "text/plain": [
       "'canine'"
      ]
     },
     "execution_count": 19,
     "metadata": {},
     "output_type": "execute_result"
    }
   ],
   "source": [
    "a.kind"
   ]
  },
  {
   "cell_type": "code",
   "execution_count": 20,
   "id": "59ca9f6c",
   "metadata": {},
   "outputs": [
    {
     "data": {
      "text/plain": [
       "'tuffy'"
      ]
     },
     "execution_count": 20,
     "metadata": {},
     "output_type": "execute_result"
    }
   ],
   "source": [
    "a.name"
   ]
  },
  {
   "cell_type": "code",
   "execution_count": 21,
   "id": "a6cebf3f",
   "metadata": {},
   "outputs": [],
   "source": [
    "b=Dog('maxx')"
   ]
  },
  {
   "cell_type": "code",
   "execution_count": 22,
   "id": "909ee61d",
   "metadata": {},
   "outputs": [
    {
     "data": {
      "text/plain": [
       "'canine'"
      ]
     },
     "execution_count": 22,
     "metadata": {},
     "output_type": "execute_result"
    }
   ],
   "source": [
    "b.kind"
   ]
  },
  {
   "cell_type": "code",
   "execution_count": 23,
   "id": "796b4416",
   "metadata": {},
   "outputs": [],
   "source": [
    "b.kind='something'"
   ]
  },
  {
   "cell_type": "code",
   "execution_count": 24,
   "id": "594891a0",
   "metadata": {},
   "outputs": [
    {
     "data": {
      "text/plain": [
       "'something'"
      ]
     },
     "execution_count": 24,
     "metadata": {},
     "output_type": "execute_result"
    }
   ],
   "source": [
    "b.kind"
   ]
  },
  {
   "cell_type": "code",
   "execution_count": 25,
   "id": "4d0c74f6",
   "metadata": {},
   "outputs": [
    {
     "data": {
      "text/plain": [
       "'canine'"
      ]
     },
     "execution_count": 25,
     "metadata": {},
     "output_type": "execute_result"
    }
   ],
   "source": [
    "a.kind"
   ]
  },
  {
   "cell_type": "code",
   "execution_count": 65,
   "id": "972d419c",
   "metadata": {},
   "outputs": [],
   "source": [
    "class Dog:\n",
    "    def __init__(self,name):\n",
    "        self.name = name\n",
    "        self.tricks=[]\n",
    "    def add_trick(self,trick):\n",
    "        self.tricks.append(trick)\n",
    "    "
   ]
  },
  {
   "cell_type": "code",
   "execution_count": 66,
   "id": "3ddb30d0",
   "metadata": {},
   "outputs": [],
   "source": [
    "a=Dog(\"bruno\")"
   ]
  },
  {
   "cell_type": "code",
   "execution_count": 67,
   "id": "b84f8341",
   "metadata": {},
   "outputs": [],
   "source": [
    "b=Dog(\"maxx\")"
   ]
  },
  {
   "cell_type": "code",
   "execution_count": 68,
   "id": "51f9870c",
   "metadata": {},
   "outputs": [],
   "source": [
    "a.add_trick('fetch')"
   ]
  },
  {
   "cell_type": "code",
   "execution_count": 69,
   "id": "25c632d7",
   "metadata": {},
   "outputs": [],
   "source": [
    "a.add_trick('talk')"
   ]
  },
  {
   "cell_type": "code",
   "execution_count": 70,
   "id": "21394aed",
   "metadata": {},
   "outputs": [
    {
     "data": {
      "text/plain": [
       "['fetch', 'talk']"
      ]
     },
     "execution_count": 70,
     "metadata": {},
     "output_type": "execute_result"
    }
   ],
   "source": [
    "a.tricks"
   ]
  },
  {
   "cell_type": "code",
   "execution_count": 71,
   "id": "eca0fbd7",
   "metadata": {},
   "outputs": [
    {
     "data": {
      "text/plain": [
       "[]"
      ]
     },
     "execution_count": 71,
     "metadata": {},
     "output_type": "execute_result"
    }
   ],
   "source": [
    "b.tricks"
   ]
  },
  {
   "cell_type": "markdown",
   "id": "997a6e57",
   "metadata": {},
   "source": [
    "### Inheritance"
   ]
  },
  {
   "cell_type": "markdown",
   "id": "f32b55f8",
   "metadata": {},
   "source": [
    " One of the major benefits of object oriented programming is reuse of code and one of the ways this is achieved is through the inheritence mechanism.Inheritance can be best imagined as implementing a type and subtype relationship between classes.\n",
    " "
   ]
  },
  {
   "cell_type": "code",
   "execution_count": 72,
   "id": "eb255f0d",
   "metadata": {},
   "outputs": [
    {
     "name": "stdout",
     "output_type": "stream",
     "text": [
      " (Initialized Schoolmember: Mr abc) \n",
      "(Initialized Teacher:Mr abc)\n",
      "Name: Mr abc Age: 40 Salary: 50000\n"
     ]
    }
   ],
   "source": [
    "class SchoolMember:\n",
    "    '''Represents any school member.'''\n",
    "    def __init__(self,name,age):\n",
    "        self.name=name\n",
    "        self.age=age\n",
    "        print(' (Initialized Schoolmember: {}) '.format(self.name))\n",
    "    def tell(self):\n",
    "        '''Tell my details'''\n",
    "        print('Name: {} Age: {}'.format(self.name,self.age),end=\" \")\n",
    "\n",
    "class Teacher(SchoolMember):\n",
    "    '''Represents a teacher'''\n",
    "    def __init__(self,name,age,salary):\n",
    "        super().__init__(name,age)   # overriding - extending functionality \n",
    "        self.salary=salary\n",
    "        print('(Initialized Teacher:{})'.format(self.name))\n",
    "    def tell(self):\n",
    "        super().tell()\n",
    "        print('Salary: {:d}'.format(self.salary))\n",
    "\n",
    "class Student(SchoolMember):\n",
    "    '''Represents the student'''\n",
    "    def __init__(self,name,age,marks):\n",
    "        super().__init__(name,age)\n",
    "        self.marks=marks\n",
    "        print('(Initialized Student: {})'.format(self.name))\n",
    "    def tell(self):\n",
    "        super().tell()\n",
    "        print(\"Marks: {:d}\".format(self.marks))\n",
    "        \n",
    "t=Teacher(\"Mr abc\",40,50000)\n",
    "t.tell()"
   ]
  },
  {
   "cell_type": "code",
   "execution_count": 73,
   "id": "c9e8d882",
   "metadata": {},
   "outputs": [
    {
     "name": "stdout",
     "output_type": "stream",
     "text": [
      " (Initialized Schoolmember: xyz) \n",
      "(Initialized Student: xyz)\n",
      "Name: xyz Age: 20 Marks: 85\n"
     ]
    }
   ],
   "source": [
    "s=Student(\"xyz\",20,85)\n",
    "s.tell()"
   ]
  },
  {
   "cell_type": "markdown",
   "id": "b836f822",
   "metadata": {},
   "source": [
    "### Modules and packages in Python"
   ]
  },
  {
   "cell_type": "code",
   "execution_count": 74,
   "id": "4bbc7479",
   "metadata": {},
   "outputs": [],
   "source": [
    "# worked in VS CODE"
   ]
  },
  {
   "cell_type": "code",
   "execution_count": null,
   "id": "8814c822",
   "metadata": {},
   "outputs": [],
   "source": []
  }
 ],
 "metadata": {
  "kernelspec": {
   "display_name": "Python 3 (ipykernel)",
   "language": "python",
   "name": "python3"
  },
  "language_info": {
   "codemirror_mode": {
    "name": "ipython",
    "version": 3
   },
   "file_extension": ".py",
   "mimetype": "text/x-python",
   "name": "python",
   "nbconvert_exporter": "python",
   "pygments_lexer": "ipython3",
   "version": "3.9.7"
  }
 },
 "nbformat": 4,
 "nbformat_minor": 5
}
