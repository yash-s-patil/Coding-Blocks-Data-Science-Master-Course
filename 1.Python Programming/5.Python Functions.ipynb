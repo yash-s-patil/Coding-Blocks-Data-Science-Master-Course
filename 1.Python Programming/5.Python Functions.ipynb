{
 "cells": [
  {
   "cell_type": "markdown",
   "id": "556d9adb",
   "metadata": {},
   "source": [
    "### Functions\n"
   ]
  },
  {
   "cell_type": "markdown",
   "id": "295dc3a5",
   "metadata": {},
   "source": [
    "Functions are reusable pieces of programs.They allow you to give a name to a block of statements, allowing you to run that block using specified name anywhere in your program and any no of times.This is known as calling a function.We have already used many built-in functions such as len and range."
   ]
  },
  {
   "cell_type": "code",
   "execution_count": 2,
   "id": "bad1b195",
   "metadata": {},
   "outputs": [
    {
     "name": "stdout",
     "output_type": "stream",
     "text": [
      "knock knock knock yash\n",
      "knock knock knock yash\n",
      "knock knock knock yash\n",
      "30\n",
      "0\n",
      "1\n",
      "2\n",
      "3\n",
      "4\n",
      "5\n",
      "6\n",
      "7\n",
      "8\n",
      "9\n",
      "knock knock knock yash\n",
      "knock knock knock yash\n",
      "knock knock knock yash\n"
     ]
    }
   ],
   "source": [
    "# print sheldon knock \n",
    "print(\"knock knock knock yash\")\n",
    "print(\"knock knock knock yash\")\n",
    "print(\"knock knock knock yash\")\n",
    "\n",
    "print(10+20)\n",
    "for i in range(10):\n",
    "    print(i)\n",
    "    \n",
    "print(\"knock knock knock yash\")\n",
    "print(\"knock knock knock yash\")\n",
    "print(\"knock knock knock yash\")\n",
    "    \n",
    "\n"
   ]
  },
  {
   "cell_type": "code",
   "execution_count": 3,
   "id": "f8d4a4b0",
   "metadata": {},
   "outputs": [],
   "source": [
    "def sheldon_knock():\n",
    "    print(\"knock knock knock yash\")\n",
    "    print(\"knock knock knock yash\")\n",
    "    print(\"knock knock knock yash\")\n"
   ]
  },
  {
   "cell_type": "code",
   "execution_count": 4,
   "id": "025560d3",
   "metadata": {},
   "outputs": [
    {
     "name": "stdout",
     "output_type": "stream",
     "text": [
      "knock knock knock yash\n",
      "knock knock knock yash\n",
      "knock knock knock yash\n",
      "30\n",
      "0\n",
      "1\n",
      "2\n",
      "3\n",
      "4\n",
      "5\n",
      "6\n",
      "7\n",
      "8\n",
      "9\n",
      "knock knock knock yash\n",
      "knock knock knock yash\n",
      "knock knock knock yash\n"
     ]
    }
   ],
   "source": [
    "# code reuse\n",
    "sheldon_knock()\n",
    "print(10+20)\n",
    "for i in range(10):\n",
    "    print(i)\n",
    "sheldon_knock()"
   ]
  },
  {
   "cell_type": "markdown",
   "id": "fc61eb72",
   "metadata": {},
   "source": [
    "### functions can take parameters"
   ]
  },
  {
   "cell_type": "code",
   "execution_count": 8,
   "id": "8f8c1eab",
   "metadata": {},
   "outputs": [],
   "source": [
    "def sheldon_knock(name,no_of_times):\n",
    "    for i in range(no_of_times):\n",
    "        print(\"knock knock knock {}\".format(name))"
   ]
  },
  {
   "cell_type": "code",
   "execution_count": 10,
   "id": "2462f3a3",
   "metadata": {},
   "outputs": [
    {
     "name": "stdout",
     "output_type": "stream",
     "text": [
      "knock knock knock jack\n",
      "knock knock knock jack\n",
      "knock knock knock jack\n",
      "knock knock knock jack\n",
      "knock knock knock jack\n",
      "knock knock knock jack\n",
      "knock knock knock jack\n",
      "knock knock knock jack\n"
     ]
    }
   ],
   "source": [
    "sheldon_knock(\"jack\",8)"
   ]
  },
  {
   "cell_type": "markdown",
   "id": "8275d571",
   "metadata": {},
   "source": [
    "### return statement"
   ]
  },
  {
   "cell_type": "code",
   "execution_count": 11,
   "id": "6c783aab",
   "metadata": {},
   "outputs": [],
   "source": [
    "def add(a,b):\n",
    "    return a+b"
   ]
  },
  {
   "cell_type": "code",
   "execution_count": 12,
   "id": "77b5ae39",
   "metadata": {},
   "outputs": [],
   "source": [
    "x=add(3,4)"
   ]
  },
  {
   "cell_type": "code",
   "execution_count": 13,
   "id": "62cfa2d0",
   "metadata": {},
   "outputs": [
    {
     "data": {
      "text/plain": [
       "7"
      ]
     },
     "execution_count": 13,
     "metadata": {},
     "output_type": "execute_result"
    }
   ],
   "source": [
    "x"
   ]
  },
  {
   "cell_type": "code",
   "execution_count": 14,
   "id": "b50ddcaa",
   "metadata": {},
   "outputs": [
    {
     "name": "stdout",
     "output_type": "stream",
     "text": [
      "7\n"
     ]
    }
   ],
   "source": [
    "print(x)"
   ]
  },
  {
   "cell_type": "code",
   "execution_count": 15,
   "id": "0d4dbbb7",
   "metadata": {},
   "outputs": [],
   "source": [
    "def div(a,b):\n",
    "    try: \n",
    "        return a/b\n",
    "    except:\n",
    "        print(\"error\")\n",
    "    finally:\n",
    "        print(\"wrapping up\")\n",
    "        return 10\n",
    "   "
   ]
  },
  {
   "cell_type": "code",
   "execution_count": 16,
   "id": "e06617d3",
   "metadata": {},
   "outputs": [
    {
     "name": "stdout",
     "output_type": "stream",
     "text": [
      "error\n",
      "wrapping up\n"
     ]
    },
    {
     "data": {
      "text/plain": [
       "10"
      ]
     },
     "execution_count": 16,
     "metadata": {},
     "output_type": "execute_result"
    }
   ],
   "source": [
    "div(1,0)"
   ]
  },
  {
   "cell_type": "code",
   "execution_count": 17,
   "id": "e2986cda",
   "metadata": {},
   "outputs": [
    {
     "name": "stdout",
     "output_type": "stream",
     "text": [
      "wrapping up\n"
     ]
    },
    {
     "data": {
      "text/plain": [
       "10"
      ]
     },
     "execution_count": 17,
     "metadata": {},
     "output_type": "execute_result"
    }
   ],
   "source": [
    "div(5,5)"
   ]
  },
  {
   "cell_type": "markdown",
   "id": "197da538",
   "metadata": {},
   "source": [
    "### local and global variables"
   ]
  },
  {
   "cell_type": "code",
   "execution_count": 18,
   "id": "90bbd865",
   "metadata": {},
   "outputs": [],
   "source": [
    "x=10\n",
    "def show():\n",
    "    x=5\n",
    "    print(x)\n",
    "    "
   ]
  },
  {
   "cell_type": "code",
   "execution_count": 19,
   "id": "fe5d8623",
   "metadata": {},
   "outputs": [
    {
     "name": "stdout",
     "output_type": "stream",
     "text": [
      "5\n",
      "10\n"
     ]
    }
   ],
   "source": [
    "show() # local x value\n",
    "print(x) # global x value"
   ]
  },
  {
   "cell_type": "code",
   "execution_count": 20,
   "id": "bc6a67c1",
   "metadata": {},
   "outputs": [],
   "source": [
    "x=10\n",
    "def show():\n",
    "    x+=5 # update global variable but this will not happen \n",
    "         # by default it doesn't treate x as global variable inside a function\n",
    "    print(x)"
   ]
  },
  {
   "cell_type": "code",
   "execution_count": 21,
   "id": "0498c391",
   "metadata": {},
   "outputs": [
    {
     "ename": "UnboundLocalError",
     "evalue": "local variable 'x' referenced before assignment",
     "output_type": "error",
     "traceback": [
      "\u001b[1;31m---------------------------------------------------------------------------\u001b[0m",
      "\u001b[1;31mUnboundLocalError\u001b[0m                         Traceback (most recent call last)",
      "\u001b[1;32m~\\AppData\\Local\\Temp/ipykernel_16364/2152131889.py\u001b[0m in \u001b[0;36m<module>\u001b[1;34m\u001b[0m\n\u001b[1;32m----> 1\u001b[1;33m \u001b[0mshow\u001b[0m\u001b[1;33m(\u001b[0m\u001b[1;33m)\u001b[0m\u001b[1;33m\u001b[0m\u001b[1;33m\u001b[0m\u001b[0m\n\u001b[0m",
      "\u001b[1;32m~\\AppData\\Local\\Temp/ipykernel_16364/1224907458.py\u001b[0m in \u001b[0;36mshow\u001b[1;34m()\u001b[0m\n\u001b[0;32m      1\u001b[0m \u001b[0mx\u001b[0m\u001b[1;33m=\u001b[0m\u001b[1;36m10\u001b[0m\u001b[1;33m\u001b[0m\u001b[1;33m\u001b[0m\u001b[0m\n\u001b[0;32m      2\u001b[0m \u001b[1;32mdef\u001b[0m \u001b[0mshow\u001b[0m\u001b[1;33m(\u001b[0m\u001b[1;33m)\u001b[0m\u001b[1;33m:\u001b[0m\u001b[1;33m\u001b[0m\u001b[1;33m\u001b[0m\u001b[0m\n\u001b[1;32m----> 3\u001b[1;33m     \u001b[0mx\u001b[0m\u001b[1;33m+=\u001b[0m\u001b[1;36m5\u001b[0m \u001b[1;31m# update global variable but this will not happen\u001b[0m\u001b[1;33m\u001b[0m\u001b[1;33m\u001b[0m\u001b[0m\n\u001b[0m\u001b[0;32m      4\u001b[0m     \u001b[0mprint\u001b[0m\u001b[1;33m(\u001b[0m\u001b[0mx\u001b[0m\u001b[1;33m)\u001b[0m\u001b[1;33m\u001b[0m\u001b[1;33m\u001b[0m\u001b[0m\n",
      "\u001b[1;31mUnboundLocalError\u001b[0m: local variable 'x' referenced before assignment"
     ]
    }
   ],
   "source": [
    "show()"
   ]
  },
  {
   "cell_type": "code",
   "execution_count": 22,
   "id": "d562f259",
   "metadata": {},
   "outputs": [],
   "source": [
    "# Solution - force python and tell the interpreter that i will be using global x inside a function"
   ]
  },
  {
   "cell_type": "code",
   "execution_count": 23,
   "id": "7a2da940",
   "metadata": {},
   "outputs": [],
   "source": [
    "x=10\n",
    "def show():\n",
    "    global x\n",
    "    x+=5\n",
    "    print(x)"
   ]
  },
  {
   "cell_type": "code",
   "execution_count": 24,
   "id": "e80e4c0f",
   "metadata": {},
   "outputs": [
    {
     "name": "stdout",
     "output_type": "stream",
     "text": [
      "15\n",
      "15\n"
     ]
    }
   ],
   "source": [
    "show()\n",
    "print(x)"
   ]
  },
  {
   "cell_type": "code",
   "execution_count": 25,
   "id": "71780c44",
   "metadata": {},
   "outputs": [],
   "source": [
    "del x"
   ]
  },
  {
   "cell_type": "code",
   "execution_count": 27,
   "id": "e59fce4b",
   "metadata": {},
   "outputs": [],
   "source": [
    "# enclousers\n",
    "def outer():\n",
    "    x=\"local\"\n",
    "    def inner():\n",
    "        print(x)\n",
    "    inner()\n",
    "    print(x)\n",
    "    "
   ]
  },
  {
   "cell_type": "code",
   "execution_count": 28,
   "id": "cc96442f",
   "metadata": {},
   "outputs": [
    {
     "name": "stdout",
     "output_type": "stream",
     "text": [
      "local\n",
      "local\n"
     ]
    }
   ],
   "source": [
    "outer()"
   ]
  },
  {
   "cell_type": "code",
   "execution_count": 29,
   "id": "8415cfc4",
   "metadata": {},
   "outputs": [],
   "source": [
    "def outer():\n",
    "    x=10\n",
    "    def inner():\n",
    "        global x # not looking for outer function x it is looking for global x outside the outer function\n",
    "        # and global x has been deleted already so it will throw a error.\n",
    "        x+=5\n",
    "        print(x)\n",
    "    inner()\n",
    "    print(x)"
   ]
  },
  {
   "cell_type": "code",
   "execution_count": 30,
   "id": "eb3a7190",
   "metadata": {},
   "outputs": [
    {
     "ename": "NameError",
     "evalue": "name 'x' is not defined",
     "output_type": "error",
     "traceback": [
      "\u001b[1;31m---------------------------------------------------------------------------\u001b[0m",
      "\u001b[1;31mNameError\u001b[0m                                 Traceback (most recent call last)",
      "\u001b[1;32m~\\AppData\\Local\\Temp/ipykernel_16364/3778337650.py\u001b[0m in \u001b[0;36m<module>\u001b[1;34m\u001b[0m\n\u001b[1;32m----> 1\u001b[1;33m \u001b[0mouter\u001b[0m\u001b[1;33m(\u001b[0m\u001b[1;33m)\u001b[0m\u001b[1;33m\u001b[0m\u001b[1;33m\u001b[0m\u001b[0m\n\u001b[0m",
      "\u001b[1;32m~\\AppData\\Local\\Temp/ipykernel_16364/2110620344.py\u001b[0m in \u001b[0;36mouter\u001b[1;34m()\u001b[0m\n\u001b[0;32m      5\u001b[0m         \u001b[0mx\u001b[0m\u001b[1;33m+=\u001b[0m\u001b[1;36m5\u001b[0m\u001b[1;33m\u001b[0m\u001b[1;33m\u001b[0m\u001b[0m\n\u001b[0;32m      6\u001b[0m         \u001b[0mprint\u001b[0m\u001b[1;33m(\u001b[0m\u001b[0mx\u001b[0m\u001b[1;33m)\u001b[0m\u001b[1;33m\u001b[0m\u001b[1;33m\u001b[0m\u001b[0m\n\u001b[1;32m----> 7\u001b[1;33m     \u001b[0minner\u001b[0m\u001b[1;33m(\u001b[0m\u001b[1;33m)\u001b[0m\u001b[1;33m\u001b[0m\u001b[1;33m\u001b[0m\u001b[0m\n\u001b[0m\u001b[0;32m      8\u001b[0m     \u001b[0mprint\u001b[0m\u001b[1;33m(\u001b[0m\u001b[0mx\u001b[0m\u001b[1;33m)\u001b[0m\u001b[1;33m\u001b[0m\u001b[1;33m\u001b[0m\u001b[0m\n",
      "\u001b[1;32m~\\AppData\\Local\\Temp/ipykernel_16364/2110620344.py\u001b[0m in \u001b[0;36minner\u001b[1;34m()\u001b[0m\n\u001b[0;32m      3\u001b[0m     \u001b[1;32mdef\u001b[0m \u001b[0minner\u001b[0m\u001b[1;33m(\u001b[0m\u001b[1;33m)\u001b[0m\u001b[1;33m:\u001b[0m\u001b[1;33m\u001b[0m\u001b[1;33m\u001b[0m\u001b[0m\n\u001b[0;32m      4\u001b[0m         \u001b[1;32mglobal\u001b[0m \u001b[0mx\u001b[0m\u001b[1;33m\u001b[0m\u001b[1;33m\u001b[0m\u001b[0m\n\u001b[1;32m----> 5\u001b[1;33m         \u001b[0mx\u001b[0m\u001b[1;33m+=\u001b[0m\u001b[1;36m5\u001b[0m\u001b[1;33m\u001b[0m\u001b[1;33m\u001b[0m\u001b[0m\n\u001b[0m\u001b[0;32m      6\u001b[0m         \u001b[0mprint\u001b[0m\u001b[1;33m(\u001b[0m\u001b[0mx\u001b[0m\u001b[1;33m)\u001b[0m\u001b[1;33m\u001b[0m\u001b[1;33m\u001b[0m\u001b[0m\n\u001b[0;32m      7\u001b[0m     \u001b[0minner\u001b[0m\u001b[1;33m(\u001b[0m\u001b[1;33m)\u001b[0m\u001b[1;33m\u001b[0m\u001b[1;33m\u001b[0m\u001b[0m\n",
      "\u001b[1;31mNameError\u001b[0m: name 'x' is not defined"
     ]
    }
   ],
   "source": [
    "outer()"
   ]
  },
  {
   "cell_type": "code",
   "execution_count": 31,
   "id": "47302eee",
   "metadata": {},
   "outputs": [],
   "source": [
    "# now to access the outer function x and not the global x use nonlocal x in inner function"
   ]
  },
  {
   "cell_type": "code",
   "execution_count": 32,
   "id": "ceb57aa9",
   "metadata": {},
   "outputs": [],
   "source": [
    "# enclousers\n",
    "def outer():\n",
    "    x=10\n",
    "    def inner():\n",
    "        nonlocal x\n",
    "        x+=5\n",
    "        print(x)\n",
    "    inner()\n",
    "    print(x)"
   ]
  },
  {
   "cell_type": "code",
   "execution_count": 34,
   "id": "7bf9e4cb",
   "metadata": {},
   "outputs": [
    {
     "name": "stdout",
     "output_type": "stream",
     "text": [
      "15\n",
      "15\n"
     ]
    }
   ],
   "source": [
    "outer()"
   ]
  },
  {
   "cell_type": "markdown",
   "id": "b3487d6e",
   "metadata": {},
   "source": [
    "### default argument values"
   ]
  },
  {
   "cell_type": "code",
   "execution_count": 47,
   "id": "d61388b4",
   "metadata": {},
   "outputs": [],
   "source": [
    "def show(a,b,c,d=\"something\",e=\"something more\"):\n",
    "    print(a)\n",
    "    print(b)\n",
    "    print(c)\n",
    "    print(d)\n",
    "    print(e)"
   ]
  },
  {
   "cell_type": "code",
   "execution_count": 49,
   "id": "db37b30c",
   "metadata": {},
   "outputs": [
    {
     "name": "stdout",
     "output_type": "stream",
     "text": [
      "hello\n",
      "world\n",
      "python\n",
      "something\n",
      "something more\n"
     ]
    }
   ],
   "source": [
    "show(\"hello\",\"world\",\"python\")"
   ]
  },
  {
   "cell_type": "code",
   "execution_count": 51,
   "id": "d10b7465",
   "metadata": {},
   "outputs": [
    {
     "name": "stdout",
     "output_type": "stream",
     "text": [
      "world\n",
      "hello\n",
      "python\n",
      "something\n",
      "yash\n"
     ]
    }
   ],
   "source": [
    "show(b=\"hello\", c=\"python\", a=\"world\",e= \"yash\") # keyworded arguments e value also changed explicitly"
   ]
  },
  {
   "cell_type": "code",
   "execution_count": 52,
   "id": "ad63f947",
   "metadata": {},
   "outputs": [
    {
     "name": "stdout",
     "output_type": "stream",
     "text": [
      "yash patil python c\n"
     ]
    }
   ],
   "source": [
    "print(\"yash\",\"patil\",\"python\",\"c\")"
   ]
  },
  {
   "cell_type": "code",
   "execution_count": 53,
   "id": "95554235",
   "metadata": {},
   "outputs": [],
   "source": [
    "# packed positional arguments in python \n",
    "def show(a,b,c,*args):\n",
    "    print(args)"
   ]
  },
  {
   "cell_type": "code",
   "execution_count": 54,
   "id": "955e6d41",
   "metadata": {},
   "outputs": [
    {
     "name": "stdout",
     "output_type": "stream",
     "text": [
      "('yash', 'patil', 343)\n"
     ]
    }
   ],
   "source": [
    "show(1,2,3,\"yash\",\"patil\",343)"
   ]
  },
  {
   "cell_type": "code",
   "execution_count": 64,
   "id": "f1051a57",
   "metadata": {},
   "outputs": [],
   "source": [
    "# position while taking the arguments\n",
    "def show(a,b,c,*args,d=10,e=20,**kwargs): #packed keyworded arguments\n",
    "    print(a)\n",
    "    print(args)\n",
    "    print(d)\n",
    "    print(e)\n",
    "    print(kwargs)"
   ]
  },
  {
   "cell_type": "code",
   "execution_count": 66,
   "id": "5f2f58fa",
   "metadata": {},
   "outputs": [
    {
     "name": "stdout",
     "output_type": "stream",
     "text": [
      "1\n",
      "('yash', 'sunil', 'patil')\n",
      "20\n",
      "20\n",
      "{'name': 'kevin', 'surname': 'petersen'}\n"
     ]
    }
   ],
   "source": [
    "show(1,2,3,\"yash\",\"sunil\",\"patil\",d=20,name=\"kevin\",surname=\"petersen\")"
   ]
  },
  {
   "cell_type": "markdown",
   "id": "966507c7",
   "metadata": {},
   "source": [
    "### Lambda functions"
   ]
  },
  {
   "cell_type": "code",
   "execution_count": 67,
   "id": "d0976aae",
   "metadata": {},
   "outputs": [],
   "source": [
    "add= lambda a,b: a+b"
   ]
  },
  {
   "cell_type": "code",
   "execution_count": 68,
   "id": "10571a50",
   "metadata": {},
   "outputs": [
    {
     "data": {
      "text/plain": [
       "3"
      ]
     },
     "execution_count": 68,
     "metadata": {},
     "output_type": "execute_result"
    }
   ],
   "source": [
    "add(1,2)"
   ]
  },
  {
   "cell_type": "code",
   "execution_count": 69,
   "id": "fc49b87b",
   "metadata": {},
   "outputs": [],
   "source": [
    "a=[(\"jatin\",5),(\"prateek\",10),(\"arun\",1),(\"arnav\",15)]"
   ]
  },
  {
   "cell_type": "code",
   "execution_count": 71,
   "id": "4f759b1c",
   "metadata": {},
   "outputs": [
    {
     "data": {
      "text/plain": [
       "[('arnav', 15), ('arun', 1), ('jatin', 5), ('prateek', 10)]"
      ]
     },
     "execution_count": 71,
     "metadata": {},
     "output_type": "execute_result"
    }
   ],
   "source": [
    "sorted(a) # sort on basis of first item"
   ]
  },
  {
   "cell_type": "code",
   "execution_count": 72,
   "id": "3b100c8b",
   "metadata": {},
   "outputs": [
    {
     "data": {
      "text/plain": [
       "[('arun', 1), ('jatin', 5), ('prateek', 10), ('arnav', 15)]"
      ]
     },
     "execution_count": 72,
     "metadata": {},
     "output_type": "execute_result"
    }
   ],
   "source": [
    "sorted(a,key=lambda x:x[1]) #sort on the basis of second item"
   ]
  },
  {
   "cell_type": "markdown",
   "id": "d834b287",
   "metadata": {},
   "source": [
    "### Decorators"
   ]
  },
  {
   "cell_type": "code",
   "execution_count": 73,
   "id": "e6426457",
   "metadata": {},
   "outputs": [],
   "source": [
    "users={\n",
    "    \"yash\":\"pass\",\n",
    "    \"kevin\":\"word\"\n",
    "}"
   ]
  },
  {
   "cell_type": "code",
   "execution_count": 74,
   "id": "aa731767",
   "metadata": {},
   "outputs": [],
   "source": [
    "def show(username,password):\n",
    "    if username in users and users[username]==password:\n",
    "        print(\"hello access granted\")\n",
    "    else:\n",
    "        print(\"not authenticated\")"
   ]
  },
  {
   "cell_type": "code",
   "execution_count": 75,
   "id": "51aa7d16",
   "metadata": {},
   "outputs": [
    {
     "name": "stdout",
     "output_type": "stream",
     "text": [
      "hello access granted\n"
     ]
    }
   ],
   "source": [
    "show(\"yash\",\"pass\")"
   ]
  },
  {
   "cell_type": "code",
   "execution_count": 76,
   "id": "db9e59f7",
   "metadata": {},
   "outputs": [
    {
     "name": "stdout",
     "output_type": "stream",
     "text": [
      "hello access granted\n"
     ]
    }
   ],
   "source": [
    "show(\"kevin\",\"word\")"
   ]
  },
  {
   "cell_type": "code",
   "execution_count": 77,
   "id": "c3a44d86",
   "metadata": {},
   "outputs": [
    {
     "name": "stdout",
     "output_type": "stream",
     "text": [
      "not authenticated\n"
     ]
    }
   ],
   "source": [
    "show(\"yash\",\"123\")"
   ]
  },
  {
   "cell_type": "code",
   "execution_count": 85,
   "id": "6adf8905",
   "metadata": {},
   "outputs": [],
   "source": [
    "def login_required(func):\n",
    "    def wrapper(username,password,*args,**kwargs):\n",
    "        if username in users and users[username]==password:\n",
    "            func(*args,*kwargs)\n",
    "        else:\n",
    "            print(\"not authenticated\")\n",
    "        \n",
    "    return wrapper\n",
    "            "
   ]
  },
  {
   "cell_type": "code",
   "execution_count": 102,
   "id": "2fd547ee",
   "metadata": {},
   "outputs": [],
   "source": [
    "@login_required\n",
    "def add(a,b):\n",
    "    print(a+b)\n"
   ]
  },
  {
   "cell_type": "code",
   "execution_count": 103,
   "id": "af724576",
   "metadata": {},
   "outputs": [
    {
     "name": "stdout",
     "output_type": "stream",
     "text": [
      "6\n"
     ]
    }
   ],
   "source": [
    "add(\"yash\",\"pass\",2,4)"
   ]
  },
  {
   "cell_type": "markdown",
   "id": "5b5166e6",
   "metadata": {},
   "source": [
    "###  Arguments and keyword arguments"
   ]
  },
  {
   "cell_type": "code",
   "execution_count": 113,
   "id": "cce93fd8",
   "metadata": {},
   "outputs": [
    {
     "name": "stdout",
     "output_type": "stream",
     "text": [
      "1\n",
      "2\n",
      "(3, 4, 'Yash')\n",
      "<class 'tuple'>\n",
      "{'shake': 'Oreoshake', 'drink': 'lemonade', 'fruit': 'Mango'}\n",
      "<class 'dict'>\n",
      "shake Oreoshake\n",
      "drink lemonade\n",
      "fruit Mango\n"
     ]
    }
   ],
   "source": [
    "# args is a tuple of multiple values\n",
    "# kwargs is a dictionary of multiple values\n",
    "def fun(a,b,*args,**kwargs):\n",
    "    print(a)\n",
    "    print(b)\n",
    "    print(args)\n",
    "    print(type(args))\n",
    "    print(kwargs)\n",
    "    print(type(kwargs))\n",
    "    for k in kwargs:\n",
    "        print(k,kwargs[k])\n",
    "fun(1,2,3,4,\"Yash\",shake=\"Oreoshake\",drink=\"lemonade\",fruit=\"Mango\")"
   ]
  },
  {
   "cell_type": "code",
   "execution_count": null,
   "id": "ecfdc335",
   "metadata": {},
   "outputs": [],
   "source": [
    "\n",
    "    "
   ]
  },
  {
   "cell_type": "code",
   "execution_count": null,
   "id": "f3ade56a",
   "metadata": {},
   "outputs": [],
   "source": []
  }
 ],
 "metadata": {
  "kernelspec": {
   "display_name": "Python 3 (ipykernel)",
   "language": "python",
   "name": "python3"
  },
  "language_info": {
   "codemirror_mode": {
    "name": "ipython",
    "version": 3
   },
   "file_extension": ".py",
   "mimetype": "text/x-python",
   "name": "python",
   "nbconvert_exporter": "python",
   "pygments_lexer": "ipython3",
   "version": "3.9.7"
  }
 },
 "nbformat": 4,
 "nbformat_minor": 5
}
